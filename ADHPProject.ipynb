{
  "cells": [
    {
      "cell_type": "markdown",
      "metadata": {
        "id": "sr6JScwjSzha"
      },
      "source": [
        "# A Rate-Based Model of Neural Activity-Dependent Homeostatic Plasticity\n",
        "\n",
        "###Goals/Objectives/Questions:\n",
        "\n",
        "[***Correlation structure***] It is hypothesized that the relative numbers of ion channels embedded in the membrane of neurons maintained by activity-dependent homeostatic plasticity (ADHP) is related to the proportion in which they are inserted in response to hypo- or hyper-activity (ADHP mechanism details). However, these correlation structures could more readily be explained by the degeneracy of neural parameter space -- the fact that multiple ion channel configurations can produce the same average activity levels. Therefore, we aim to show that the same correlation structures can be produced regardless of ADHP mechanism details. This would support the explanation that it is instead a consequence of parameter space degeneracy.\n",
        "\n",
        "###Main Inpsiration Paper(s):\n",
        "Caplan, J. S., Williams, A. H., & Marder, E. (2014). Many parameter sets in a multicompartment model oscillator are robust to temperature perturbations. The Journal of Neuroscience: The Official Journal of the Society for Neuroscience, 34(14), 4963–4975. https://doi.org/10.1523/JNEUROSCI.0280-14.2014\n",
        "\n",
        "O’Leary, T., Williams, A. H., Caplan, J. S., & Marder, E. (2013). Correlations in ion channel expression emerge from homeostatic tuning rules. Proceedings of the National Academy of Sciences, 110(28). https://doi.org/10.1073/pnas.1309966110\n",
        "\n",
        "Santin, J. M., & Schulz, D. J. (2019). Membrane Voltage Is a Direct Feedback Signal That Influences Correlated Ion Channel Expression in Neurons. Current Biology, 29(10), 1683-1688.e2. Scopus. https://doi.org/10.1016/j.cub.2019.04.008\n",
        "\n",
        "Schulz, D. J., Goaillard, J.-M., & Marder, E. (2006). Variable channel expression in identified single and electrically coupled neurons in different animals. Nature Neuroscience, 9(3), Article 3. https://doi.org/10.1038/nn1639\n",
        "\n",
        "Temporal, S., Desai, M., Khorkova, O., Varghese, G., Dai, A., Schulz, D. J., & Golowasch, J. (2012). Neuromodulation independently determines correlated channel expression and conductance levels in motor neurons of the stomatogastric ganglion. Journal of Neurophysiology, 107(2), 718–727. https://doi.org/10.1152/jn.00622.2011\n",
        "\n",
        "Temporal, S., Lett, K. M., & Schulz, D. J. (2014). Activity-dependent feedback regulates correlated ion channel mRNA levels in single identified motor neurons. Current Biology: CB, 24(16), 1899–1904. https://doi.org/10.1016/j.cub.2014.06.067"
      ]
    },
    {
      "cell_type": "code",
      "execution_count": 1,
      "metadata": {
        "id": "5O7DBFouuUaL"
      },
      "outputs": [],
      "source": [
        "#extraneous output is suppressed with -q\n",
        "!pip install -q tellurium"
      ]
    },
    {
      "cell_type": "code",
      "execution_count": 2,
      "metadata": {
        "id": "tHyCOEfHmYGp"
      },
      "outputs": [],
      "source": [
        "import tellurium as te\n",
        "import numpy as np\n",
        "import matplotlib.pyplot as plt\n",
        "from mpl_toolkits.mplot3d import Axes3D\n",
        "import ipywidgets as widgets\n",
        "\n",
        "#import plotly as px\n",
        "#import plotly.graph_objects as go"
      ]
    },
    {
      "cell_type": "markdown",
      "metadata": {
        "id": "Rc2lmKL8lEIi"
      },
      "source": [
        "**Step 1**: Recreate individual timeseries from Figure 1"
      ]
    },
    {
      "cell_type": "code",
      "execution_count": 3,
      "metadata": {
        "id": "qljsHi5Y4ebR"
      },
      "outputs": [],
      "source": [
        "ADHPmodel = '''\n",
        "R1: -> Vm ; (g1*(E1-Vm) + g2*(E2-Vm) + g3*(E3-Vm)) / Cm\n",
        "R2: -> Ca ; (A*(e^(b*Vm)) - Ca) / TauCa\n",
        "R3: -> g1 ; g1*(Ca - Ct) / Tau1\n",
        "R4: -> g2 ; g2*(Ca - Ct) / Tau2\n",
        "R5: -> g3 ; g3*(Ca - Ct) / Tau3\n",
        "\n",
        "e = 2.7182818284                            #Euler's number\n",
        "\n",
        "g1 = 100; g2 = 20; g3 = 10;            # conductances uS/nF\n",
        "E1 = -90; E2 = -30; E3 = 50;           # corresponding reversal potentials\n",
        "A = 109.2                              # uM (from experimental fitting)\n",
        "b = .08                                # mV^-1 (from experiment fitting)\n",
        "Ca = 0.2;                              # calcium concentration\n",
        "Vm = -50;                              # membrane potential\n",
        "Ct = 1;                                # (uM) target \n",
        "Cm = 1;                                # Membrane capacitance\n",
        "Tau1 = 4000;\n",
        "Tau2 = -6000;\n",
        "Tau3 = -1000;\n",
        "TauCa = 100;                           #ms\n",
        "'''\n",
        "\n",
        "r = te.loada(ADHPmodel)"
      ]
    },
    {
      "cell_type": "code",
      "execution_count": 4,
      "metadata": {
        "id": "qJt-IpbJd-4F"
      },
      "outputs": [],
      "source": [
        "#@title\n",
        "Tauoptions = widgets.ToggleButtons(\n",
        "    options=['Original', 'Flipped', 'Scaled','Custom'],\n",
        "    description='Tau set:',\n",
        "    disabled=False,\n",
        "    button_style='', # 'success', 'info', 'warning', 'danger' or ''\n",
        "    tooltips=['Tau1 = 4000,Tau2 = -6000,Tau3 = -1000', 'Tau1 = 4000,Tau2 = 6000,Tau3 = -1000', 'Tau1 = 4000,Tau2 = -6000/10,Tau3 = -1000/40'],\n",
        ")\n",
        "Vmbox = widgets.Checkbox(\n",
        "    value=False,\n",
        "    description='Plot Mem. Voltage',\n",
        "    disabled=False,\n",
        "    indent=False,\n",
        "    continuous_update=True\n",
        ")\n",
        "g1box = widgets.Checkbox(\n",
        "    value=True,\n",
        "    description='Plot g1',\n",
        "    disabled=False,\n",
        "    indent=False,\n",
        "    continuous_update=True\n",
        ")\n",
        "g2box = widgets.Checkbox(\n",
        "    value=True,\n",
        "    description='Plot g2',\n",
        "    disabled=False,\n",
        "    indent=False,\n",
        "    continuous_update=True\n",
        ")\n",
        "g3box = widgets.Checkbox(\n",
        "    value=True,\n",
        "    description='Plot g3',\n",
        "    disabled=False,\n",
        "    indent=False,\n",
        "    continuous_update=True\n",
        ")\n",
        "Cabox = widgets.Checkbox(\n",
        "    value=False,\n",
        "    description='Plot [Ca]',\n",
        "    disabled=False,\n",
        "    indent=False,\n",
        "    continuous_update=True\n",
        ")\n",
        "Tau1in = widgets.BoundedFloatText(\n",
        "    value=4000,\n",
        "    min=-9000,\n",
        "    max=9000,\n",
        "    step=100,\n",
        "    description='Custom Tau1:',\n",
        "    disabled=False,\n",
        "    continuous_update=True\n",
        ")\n",
        "Tau2in = widgets.BoundedFloatText(\n",
        "    value=-6000,\n",
        "    min=-9000,\n",
        "    max=9000,\n",
        "    step=100,\n",
        "    description='Custom Tau2:',\n",
        "    disabled=False,\n",
        "    continuous_update=True\n",
        ")\n",
        "Tau3in = widgets.BoundedFloatText(\n",
        "    value=-1000,\n",
        "    min=-9000,\n",
        "    max=9000,\n",
        "    step=100,\n",
        "    description='Custom Tau3:',\n",
        "    disabled=False,\n",
        "    continuous_update=True\n",
        ")"
      ]
    },
    {
      "cell_type": "code",
      "execution_count": 5,
      "metadata": {
        "colab": {
          "base_uri": "https://localhost:8080/",
          "height": 957,
          "referenced_widgets": [
            "10e948462bbd4b93bf9033547e2bd4c1",
            "3521da2b19174635bf5b11af3a8df883",
            "c48c7541e614493dbeab24dd988c1976",
            "c51ec188fdf441cfb2cbb60e15ce4eca",
            "f187858e6c2f482bb8b750afd68a2c03",
            "6d9315135f754d54b06ffda6e41fc11a",
            "720c66d405d5454586ad83d37d149a4f",
            "f4d217949c0b44478e0e1697f9214f19",
            "881f5fe79ad2483080f2b53b8ea17452",
            "da2a2bd8187f404aa4f730d51452bca3",
            "6c94bc49a72543319e39f02b027ba709",
            "b98671b7392049adacc17b9107dfcbdd",
            "c4ab6d5494bd4622bd8c80dcb75823ef",
            "95153c1d351342e898b35e24e6496801",
            "50f2f479869c4dc39dc865e2473262d0",
            "112a4e5965324c0f88bb67312266e865",
            "d0be40f9d6eb42d9952afe6d642303ef",
            "6a84e5900f97428d91b39c56a2c80c3c",
            "9ee2de124cfa4072af3c53949978c6b4",
            "f2182ecd02ab4eda9a8881d4a8f4f446",
            "c5aa68d7721949e9954daf13ed97fec1",
            "0df19ab9b14c4ab5b4bf0712690b857c",
            "e811dd4ad5d64161b612191b66132d65",
            "62ed0d12cbd34a91ae95c6d00202c3e3",
            "a8e36d37df2b41b6ab2215c6f2bda040",
            "2e3af80a27074e7eba81f86736e9de12",
            "4217e3735b0c401ab2c495ef5321bc7c",
            "75676e0acbdf4af4a471b1025c49e03a",
            "2cf31db6849f45da8f2239ef164815ce",
            "67c753a197144a4ab488343b1a08a51d",
            "7414c03d26414a459e9404a656a35add"
          ]
        },
        "id": "-jy_PVDT41Na",
        "outputId": "bc4e9a11-fd99-416e-8089-60440613dd36"
      },
      "outputs": [
        {
          "output_type": "display_data",
          "data": {
            "text/plain": [
              "interactive(children=(ToggleButtons(description='Tau set:', options=('Original', 'Flipped', 'Scaled', 'Custom'…"
            ],
            "application/vnd.jupyter.widget-view+json": {
              "version_major": 2,
              "version_minor": 0,
              "model_id": "10e948462bbd4b93bf9033547e2bd4c1"
            }
          },
          "metadata": {}
        }
      ],
      "source": [
        "#@title\n",
        "@widgets.interact(tauset=Tauoptions,Vmbox=Vmbox,g1box=g1box,g2box=g2box,g3box=g3box,Cabox=Cabox,tau1in=Tau1in,tau2in=Tau2in,tau3in=Tau3in)\n",
        "def singleIC(tauset,Vmbox,g1box,g2box,g3box,Cabox,tau1in=r.Tau1,tau2in=r.Tau2,tau3in=r.Tau3):\n",
        "    elementstoplot=[Vmbox,g1box,g2box,g3box,Cabox]\n",
        "    r.resetAll()\n",
        "    trajcolor='blue'\n",
        "    if tauset == 'Scaled':\n",
        "        trajcolor = 'green'\n",
        "        r.Tau2 = r.Tau2/10\n",
        "        r.Tau3 = r.Tau3/40\n",
        "    if tauset == 'Flipped':\n",
        "        trajcolor = 'red'\n",
        "        r.Tau2 = -r.Tau2\n",
        "    if tauset == 'Custom':\n",
        "        trajcolor = 'black'\n",
        "        r.Tau1=Tau1in.value\n",
        "        r.Tau2=Tau2in.value\n",
        "        r.Tau3=Tau3in.value\n",
        "    result = r.simulate(0,3000,30000)\n",
        "    plt.rc('font',size=16)\n",
        "    fig = plt.figure(figsize=(30,10))\n",
        "    ax1 = fig.add_subplot(1,2,1)\n",
        "    labels=['Vm','g1','g2','g3','[Ca]']\n",
        "    colors = ['gray','c','m','y','black']\n",
        "    for i in range(len(result[0])-1):\n",
        "      if elementstoplot[i]:\n",
        "        ax1.plot(result[:,0],result[:,i+1],label=labels[i],color=colors[i])\n",
        "    ax1.legend()\n",
        "    ax1.set_xlabel('Time (s)')\n",
        "    ax1.set_ylabel('Value (mV,μS/nF,μM)')\n",
        "    ax2 = fig.add_subplot(1,2,2,projection='3d')\n",
        "    ax2.view_init(elev=40, azim=100)\n",
        "    ax2.plot(result[:,2],result[:,3],result[:,4],color=trajcolor)\n",
        "    ax2.set_xlabel('g1')\n",
        "    ax2.set_ylabel('g2')\n",
        "    ax2.set_zlabel('g3')\n",
        "    print('*Custom taus not used unless \"Custom\" is highlighted')\n",
        "    print(r'Final [Ca] (μM):',r.Ca)\n",
        "    print(r'Final Voltage (mV):',r.Vm)\n"
      ]
    },
    {
      "cell_type": "markdown",
      "metadata": {
        "id": "dbzHxsxuoiDd"
      },
      "source": [
        "**Step 2**: Test from a small cluster of initial conditions (replicate paper)"
      ]
    },
    {
      "cell_type": "code",
      "execution_count": 6,
      "metadata": {
        "id": "kCbQctu0oyiZ"
      },
      "outputs": [],
      "source": [
        "#@title\n",
        "class ADHPModel:\n",
        "  def __init__(self, initialValues = [-70, 0.2], parameterValues = [1,1,4000,-6000,-1000,100]):\n",
        "    self.initialValues = initialValues\n",
        "    self.t = 0\n",
        "    # concentrations\n",
        "    self.Vm = initialValues[0]\n",
        "    self.Ca = initialValues[1]\n",
        "    # parameters\n",
        "    self.Ct = parameterValues[0]                                # (uM) target \n",
        "    self.Cm = parameterValues[1]                                # Membrane capacitance\n",
        "    self.Tau1 = parameterValues[2]\n",
        "    self.Tau2 = parameterValues[3]\n",
        "    self.Tau3 = parameterValues[4]\n",
        "    self.TauCa = parameterValues[5]  \n",
        "    self.A = 109.2                            # uM (from experimental fitting)\n",
        "    self.b = 0.08\n",
        "  \n",
        "  def simulate(self, dt, totalSimSteps, RandomStartPoints, plotTrajectory = 0, trajectoryStep = 100):\n",
        "    self.numRandomStartPoints = len(RandomStartPoints[0])\n",
        "    self.dataOriginal = np.zeros((5,totalSimSteps))\n",
        "    self.startingPoints = RandomStartPoints\n",
        "    self.endingPoints = np.zeros((3,self.numRandomStartPoints))\n",
        "    self.trajectory = np.zeros((3,self.numRandomStartPoints, int(totalSimSteps/trajectoryStep))) # setup trajectory plot. only need to measure every trajectoryStep iterations\n",
        "    # for each point\n",
        "    for i in range(self.numRandomStartPoints):\n",
        "      self.Vm = -70\n",
        "      self.Ca = .2\n",
        "      [g1,g2,g3] = self.startingPoints[:,i]\n",
        "\n",
        "      # for each simulation step\n",
        "      for j in range(totalSimSteps):\n",
        "        self.Vm += dt*((g1*(-90-self.Vm) + g2*(-30-self.Vm) + g3*(50-self.Vm)) / self.Cm)\n",
        "        self.Ca += dt*((self.A*(np.exp(self.b*self.Vm)) - self.Ca) / self.TauCa)\n",
        "        g1 += dt*(g1*(self.Ca - self.Ct) / self.Tau1)\n",
        "        g2 += dt*(g2*(self.Ca - self.Ct) / self.Tau2)\n",
        "        g3 += dt*(g3*(self.Ca - self.Ct) / self.Tau3)\n",
        "        self.dataOriginal[:,j] = np.array([self.Ca,self.Vm,g1,g2,g3])\n",
        "        self.t += dt\n",
        "        if (plotTrajectory == 1) and (j % trajectoryStep == 0): self.trajectory[:,i,int(j/trajectoryStep)] = np.array([g1,g2,g3])\n",
        "      self.endingPoints[:,i] = np.array([g1,g2,g3])\n",
        "    self.dataOriginal = np.vstack((np.arange(0,totalSimSteps), self.dataOriginal))\n",
        "\n",
        "# -----------------------------------------------------------------------------------------------------------------------------------------------"
      ]
    },
    {
      "cell_type": "code",
      "source": [
        "#@title\n",
        "num_pts_slide = widgets.IntSlider(\n",
        "    value=10,\n",
        "    min=0,\n",
        "    max=50,\n",
        "    step=5,\n",
        "    description='Num. of Initial Pts:',\n",
        "    disabled=False,\n",
        "    continuous_update=True,\n",
        "    orientation='horizontal',\n",
        "    readout=True,\n",
        "    readout_format='d'\n",
        ")\n",
        "variance_slide = widgets.FloatSlider(\n",
        "    value=2.5,\n",
        "    min=.5,\n",
        "    max=20,\n",
        "    step=.5,\n",
        "    description='Sample Variance:',\n",
        "    disabled=False,\n",
        "    continuous_update=True,\n",
        "    orientation='horizontal',\n",
        "    readout=True,\n",
        "    readout_format='d'\n",
        ")\n",
        "g1centerin = widgets.BoundedFloatText(\n",
        "    value=105,\n",
        "    min=0,\n",
        "    max=200,\n",
        "    step=1,\n",
        "    description='g1 centered on:',\n",
        "    disabled=False\n",
        ")\n",
        "g2centerin = widgets.BoundedFloatText(\n",
        "    value=20,\n",
        "    min=0,\n",
        "    max=200,\n",
        "    step=1,\n",
        "    description='g2 centered on:',\n",
        "    disabled=False\n",
        ")\n",
        "g3centerin = widgets.BoundedFloatText(\n",
        "    value=10,\n",
        "    min=0,\n",
        "    max=200,\n",
        "    step=1,\n",
        "    description='g3 centered on:',\n",
        "    disabled=False\n",
        ")\n",
        "OGcheckbox =widgets.Checkbox(\n",
        "    value=True,\n",
        "    description='Original Taus',\n",
        "    disabled=False,\n",
        "    indent=False\n",
        ")\n",
        "Flippedcheckbox = widgets.Checkbox(\n",
        "    value=True,\n",
        "    description='Flipped Taus',\n",
        "    disabled=False,\n",
        "    indent=False\n",
        ")\n",
        "Scaledcheckbox = widgets.Checkbox(\n",
        "    value=True,\n",
        "    description='Scaled Taus',\n",
        "    disabled=False,\n",
        "    indent=False\n",
        ")\n",
        "Customcheckbox = widgets.Checkbox(\n",
        "    value=False,\n",
        "    description='Custom Taus',\n",
        "    disabled=False,\n",
        "    indent=False\n",
        ")"
      ],
      "metadata": {
        "id": "GC1Y67PlCyoF"
      },
      "execution_count": 7,
      "outputs": []
    },
    {
      "cell_type": "code",
      "execution_count": 8,
      "metadata": {
        "id": "DsXrqw_WwfaN"
      },
      "outputs": [],
      "source": [
        "#@title\n",
        "def simulatemodels(OG,Flipped,Scaled,Custom,tau1in=4000,tau2in=-6000,tau3in=-1000,num_pts=10,variance=2.5,centerg1=105,centerg2=20,centerg3=10):\n",
        "  '''run simulations indicated'''\n",
        "  randomICs = np.vstack((np.random.normal(centerg1,variance,size=num_pts),np.random.normal(centerg2,variance,size=num_pts),np.random.normal(centerg3,variance,size=num_pts)))\n",
        "  models = []\n",
        "  if OG:\n",
        "    global originalModel\n",
        "    originalModel = ADHPModel()\n",
        "    originalModel.simulate(0.01, 300000, randomICs, 1, 100)\n",
        "    print(\"OG simluated\")\n",
        "  if Flipped:\n",
        "    global flippedModel\n",
        "    flippedModel = ADHPModel(parameterValues=[1,1,4000,6000,-1000,100])\n",
        "    flippedModel.simulate(0.01, 300000, randomICs, 1, 100)\n",
        "    print(\"Flipped simulated\")\n",
        "  if Scaled:\n",
        "    global scaledModel\n",
        "    scaledModel = ADHPModel(parameterValues=[1,1,4000,-6000/10,-1000/40,100])\n",
        "    scaledModel.simulate(0.01, 300000, randomICs, 1, 100)\n",
        "    print(\"Scaled simulated\")\n",
        "  if Custom:\n",
        "    global customModel\n",
        "    customModel = ADHPModel(parameterValues=[1,1,tau1in,tau2in,tau3in,100])\n",
        "    customModel.simulate(0.01, 300000, randomICs, 1, 100)\n",
        "    print(\"Custom simulated\")\n",
        "  \n"
      ]
    },
    {
      "cell_type": "code",
      "source": [
        "#@title\n",
        "sim_button = widgets.Button(description=\"Simulate\")\n",
        "output = widgets.Output()\n",
        "\n",
        "display(OGcheckbox,Flippedcheckbox,Scaledcheckbox,Customcheckbox,Tau1in,Tau2in,Tau3in,num_pts_slide,variance_slide,g1centerin,g2centerin,g3centerin,sim_button,output)\n",
        "\n",
        "def on_sim_button_clicked(b):\n",
        "    with output:\n",
        "        print(\"Re-simulating...\")\n",
        "        simulatemodels(OG=OGcheckbox.value,Flipped=Flippedcheckbox.value,Scaled=Scaledcheckbox.value,Custom=Customcheckbox.value,tau1in=Tau1in.value,tau2in=Tau2in.value,tau3in=Tau3in.value,num_pts = num_pts_slide.value,variance=variance_slide.value,centerg1=g1centerin.value,centerg2=g2centerin.value,centerg3=g3centerin.value)\n",
        "        output.clear_output()\n",
        "        print(\"Simulation Complete, you may now plot\")\n",
        "\n",
        "sim_button.on_click(on_sim_button_clicked)"
      ],
      "metadata": {
        "colab": {
          "base_uri": "https://localhost:8080/",
          "height": 428,
          "referenced_widgets": [
            "794942c373aa435b940a419c5299461f",
            "b66a873c0e7c4d0f83465d07b1f43df0",
            "7af38e2b25354c8a866277d008f7256f",
            "0d654aed5a564e2bb7e4d626beb3f48a",
            "ce2801a8af9b461eab35b929a526638d",
            "998b06cbb8524f349d69c5c2bf6c0bd9",
            "b0134de7a8ae4404becebfdc1231103c",
            "302be99903d7494f9e9e4359f0ed0842",
            "d14f67f922804e7f9db3253166f78290",
            "72c9ce612a8f41f594790856c2e53209",
            "b17d7fa0664b476f801dd64a3f089b14",
            "9959283cd1894e9ea222971b38bdeeb1",
            "f4d217949c0b44478e0e1697f9214f19",
            "a8e36d37df2b41b6ab2215c6f2bda040",
            "2e3af80a27074e7eba81f86736e9de12",
            "881f5fe79ad2483080f2b53b8ea17452",
            "4217e3735b0c401ab2c495ef5321bc7c",
            "75676e0acbdf4af4a471b1025c49e03a",
            "da2a2bd8187f404aa4f730d51452bca3",
            "2cf31db6849f45da8f2239ef164815ce",
            "67c753a197144a4ab488343b1a08a51d",
            "ee88ec9fcd204b7f9a9129a680c264ad",
            "6444e387201c4f1486ffc99c1ced9dc1",
            "670a4354bcc34902bc1d3715bb4246f8",
            "d79d47a96924456ea576a136b70c80ee",
            "f800e78e6023481bb0586b48abe16a05",
            "f5a2b24100364e64aa76fc4640c16506",
            "035dc45bdaee46afa0ed43d91bec1f79",
            "8e9b3dc699244e50981defc2d9b88013",
            "b17186cc4b9843a487e9dd7d542041d8",
            "3fac8e1dbed74536afeee48167cb1c6e",
            "6ab75566af9244dfa224ca636ef37c95",
            "57bda996870c4d619116225fe549ee46",
            "95247de16f4c483a8a51ee596c3c94af",
            "965271e0c7d94eef9f03443c038b971c",
            "d015d192036d4a2995cd2643fd42dec4",
            "91caa421ea914ba29b4bf8a8cdc94c67",
            "0c395aba5db9447884d6b0856687b4bd",
            "cf5d87afdfd043f4a978d07b316ef7c9",
            "831c8c78bd124ee3af945da978f3e857",
            "d3967d7c08b64427b76dec4268a02147"
          ]
        },
        "id": "fK7UPyTEMDG0",
        "outputId": "427178a1-27d9-484c-ff54-0522e9231e39"
      },
      "execution_count": 9,
      "outputs": [
        {
          "output_type": "display_data",
          "data": {
            "text/plain": [
              "Checkbox(value=True, description='Original Taus', indent=False)"
            ],
            "application/vnd.jupyter.widget-view+json": {
              "version_major": 2,
              "version_minor": 0,
              "model_id": "794942c373aa435b940a419c5299461f"
            }
          },
          "metadata": {}
        },
        {
          "output_type": "display_data",
          "data": {
            "text/plain": [
              "Checkbox(value=True, description='Flipped Taus', indent=False)"
            ],
            "application/vnd.jupyter.widget-view+json": {
              "version_major": 2,
              "version_minor": 0,
              "model_id": "0d654aed5a564e2bb7e4d626beb3f48a"
            }
          },
          "metadata": {}
        },
        {
          "output_type": "display_data",
          "data": {
            "text/plain": [
              "Checkbox(value=True, description='Scaled Taus', indent=False)"
            ],
            "application/vnd.jupyter.widget-view+json": {
              "version_major": 2,
              "version_minor": 0,
              "model_id": "b0134de7a8ae4404becebfdc1231103c"
            }
          },
          "metadata": {}
        },
        {
          "output_type": "display_data",
          "data": {
            "text/plain": [
              "Checkbox(value=False, description='Custom Taus', indent=False)"
            ],
            "application/vnd.jupyter.widget-view+json": {
              "version_major": 2,
              "version_minor": 0,
              "model_id": "72c9ce612a8f41f594790856c2e53209"
            }
          },
          "metadata": {}
        },
        {
          "output_type": "display_data",
          "data": {
            "text/plain": [
              "BoundedFloatText(value=4000.0, continuous_update=True, description='Custom Tau1:', max=9000.0, min=-9000.0, st…"
            ],
            "application/vnd.jupyter.widget-view+json": {
              "version_major": 2,
              "version_minor": 0,
              "model_id": "f4d217949c0b44478e0e1697f9214f19"
            }
          },
          "metadata": {}
        },
        {
          "output_type": "display_data",
          "data": {
            "text/plain": [
              "BoundedFloatText(value=-6000.0, continuous_update=True, description='Custom Tau2:', max=9000.0, min=-9000.0, s…"
            ],
            "application/vnd.jupyter.widget-view+json": {
              "version_major": 2,
              "version_minor": 0,
              "model_id": "881f5fe79ad2483080f2b53b8ea17452"
            }
          },
          "metadata": {}
        },
        {
          "output_type": "display_data",
          "data": {
            "text/plain": [
              "BoundedFloatText(value=-1000.0, continuous_update=True, description='Custom Tau3:', max=9000.0, min=-9000.0, s…"
            ],
            "application/vnd.jupyter.widget-view+json": {
              "version_major": 2,
              "version_minor": 0,
              "model_id": "da2a2bd8187f404aa4f730d51452bca3"
            }
          },
          "metadata": {}
        },
        {
          "output_type": "display_data",
          "data": {
            "text/plain": [
              "IntSlider(value=10, description='Num. of Initial Pts:', max=50, step=5)"
            ],
            "application/vnd.jupyter.widget-view+json": {
              "version_major": 2,
              "version_minor": 0,
              "model_id": "ee88ec9fcd204b7f9a9129a680c264ad"
            }
          },
          "metadata": {}
        },
        {
          "output_type": "display_data",
          "data": {
            "text/plain": [
              "FloatSlider(value=2.5, description='Sample Variance:', max=20.0, min=0.5, readout_format='d', step=0.5)"
            ],
            "application/vnd.jupyter.widget-view+json": {
              "version_major": 2,
              "version_minor": 0,
              "model_id": "d79d47a96924456ea576a136b70c80ee"
            }
          },
          "metadata": {}
        },
        {
          "output_type": "display_data",
          "data": {
            "text/plain": [
              "BoundedFloatText(value=105.0, description='g1 centered on:', max=200.0, step=1.0)"
            ],
            "application/vnd.jupyter.widget-view+json": {
              "version_major": 2,
              "version_minor": 0,
              "model_id": "035dc45bdaee46afa0ed43d91bec1f79"
            }
          },
          "metadata": {}
        },
        {
          "output_type": "display_data",
          "data": {
            "text/plain": [
              "BoundedFloatText(value=20.0, description='g2 centered on:', max=200.0, step=1.0)"
            ],
            "application/vnd.jupyter.widget-view+json": {
              "version_major": 2,
              "version_minor": 0,
              "model_id": "3fac8e1dbed74536afeee48167cb1c6e"
            }
          },
          "metadata": {}
        },
        {
          "output_type": "display_data",
          "data": {
            "text/plain": [
              "BoundedFloatText(value=10.0, description='g3 centered on:', max=200.0, step=1.0)"
            ],
            "application/vnd.jupyter.widget-view+json": {
              "version_major": 2,
              "version_minor": 0,
              "model_id": "95247de16f4c483a8a51ee596c3c94af"
            }
          },
          "metadata": {}
        },
        {
          "output_type": "display_data",
          "data": {
            "text/plain": [
              "Button(description='Simulate', style=ButtonStyle())"
            ],
            "application/vnd.jupyter.widget-view+json": {
              "version_major": 2,
              "version_minor": 0,
              "model_id": "91caa421ea914ba29b4bf8a8cdc94c67"
            }
          },
          "metadata": {}
        },
        {
          "output_type": "display_data",
          "data": {
            "text/plain": [
              "Output()"
            ],
            "application/vnd.jupyter.widget-view+json": {
              "version_major": 2,
              "version_minor": 0,
              "model_id": "831c8c78bd124ee3af945da978f3e857"
            }
          },
          "metadata": {}
        }
      ]
    },
    {
      "cell_type": "code",
      "execution_count": 10,
      "metadata": {
        "id": "38SpH89V7tAc"
      },
      "outputs": [],
      "source": [
        "# #@title\n",
        "# def plotsamplepts():\n",
        "#   '''Plot start/end points'''\n",
        "#   endpts = np.empty(0)\n",
        "#   num_pts = num_pts_slide.value\n",
        "#   colors = np.tile('orange',num_pts)\n",
        "#   if OGcheckbox.value:\n",
        "#     startpts = originalModel.startingPoints\n",
        "#     endpts = originalModel.endingPoints\n",
        "#     colors = np.concatenate((colors,np.tile('blue',num_pts)))\n",
        "#   if Flippedcheckbox.value:\n",
        "#     startpts = flippedModel.startingPoints\n",
        "#     endpts = np.concatenate((endpts,flippedModel.endingPoints),axis=1)\n",
        "#     colors = np.concatenate((colors,np.tile('red',num_pts)))\n",
        "#   if Scaledcheckbox.value:\n",
        "#     startpts = scaledModel.startingPoints\n",
        "#     endpts = np.concatenate((endpts,scaledModel.endingPoints),axis=1)\n",
        "#     colors = np.concatenate((colors,np.tile('green',num_pts)))\n",
        "#   if Customcheckbox.value:\n",
        "#     startpts = customModel.startingPoints\n",
        "#     endpts = np.concatenate((endpts,customModel.endingPoints),axis=1)\n",
        "#     colors = np.concatenate((colors,np.tile('black',num_pts)))\n",
        "#   pts = np.concatenate((startpts,endpts),axis=1)\n",
        "      \n",
        "#   fig= go.Figure(data=[go.Scatter3d(x=pts[0], y=pts[1], z=pts[2],mode='markers',marker=dict(\n",
        "#       size=8,\n",
        "#       color=colors,                # set color to an array/list of desired values\n",
        "#       #colorscale='rainbow',   # choose a colorscale\n",
        "#       opacity=0.8)\n",
        "#     )\n",
        "#   ])\n",
        "#   fig.show()"
      ]
    },
    {
      "cell_type": "code",
      "source": [
        "# #@title\n",
        "# plot_button = widgets.Button(description=\"Plot\")\n",
        "# output = widgets.Output()\n",
        "\n",
        "# display(plot_button,output)\n",
        "\n",
        "# def on_plot_button_clicked(b):\n",
        "#     with output:\n",
        "#         output.clear_output()\n",
        "#         print(\"Plotting...\")\n",
        "#         print(\"Legend: \\n\",\"Initial Pts = Orange\\n\",\"Original = blue\\n\", \"Flipped = red\\n\", \"Scaled = green\\n\", \"Custom = Black\")\n",
        "#         plotsamplepts()        \n",
        "\n",
        "# plot_button.on_click(on_plot_button_clicked)\n"
      ],
      "metadata": {
        "colab": {
          "base_uri": "https://localhost:8080/",
          "height": 696,
          "referenced_widgets": [
            "6ee8d9dea7804ce08e55de3bdf20d98c",
            "e00d83963b064be5b7e9a7e900d244b4",
            "d6aaa465105242f48fb43e57c8165583",
            "1a713e9374ba4cc8a55e05021675ca02",
            "0ea604d8dd044912a604f039aee4f47b"
          ]
        },
        "id": "Rna4hQcsP7VX",
        "outputId": "ffc49002-6cd5-4d27-cb7e-1da927b6e359"
      },
      "execution_count": 11,
      "outputs": [
        {
          "output_type": "display_data",
          "data": {
            "text/plain": [
              "Button(description='Plot', style=ButtonStyle())"
            ],
            "application/vnd.jupyter.widget-view+json": {
              "version_major": 2,
              "version_minor": 0,
              "model_id": "6ee8d9dea7804ce08e55de3bdf20d98c"
            }
          },
          "metadata": {}
        },
        {
          "output_type": "display_data",
          "data": {
            "text/plain": [
              "Output()"
            ],
            "application/vnd.jupyter.widget-view+json": {
              "version_major": 2,
              "version_minor": 0,
              "model_id": "1a713e9374ba4cc8a55e05021675ca02"
            }
          },
          "metadata": {}
        }
      ]
    },
    {
      "cell_type": "code",
      "execution_count": 11,
      "metadata": {
        "colab": {
          "base_uri": "https://localhost:8080/",
          "height": 1000
        },
        "id": "0hja3m14x70J",
        "outputId": "dedf06e5-8758-41f6-df3b-05b8f0bdf1dd"
      },
      "outputs": [
        {
          "output_type": "display_data",
          "data": {
            "text/plain": [
              "<Figure size 1440x1440 with 1 Axes>"
            ],
            "image/png": "[encoded data removed]"
          },
          "metadata": {
            "needs_background": "light"
          }
        }
      ],
      "source": [
        "fig = plt.figure(figsize = (20,20))\n",
        "ax = plt.axes(projection=\"3d\")\n",
        "ax.view_init(elev=40, azim=100)\n",
        "\n",
        "models = [originalModel,flippedModel,scaledModel]\n",
        "colors = ['blue','red','green']\n",
        "\n",
        "for i in range(len(models)):\n",
        "  Model = models[i]\n",
        "  color = colors[i]\n",
        "  for p in range(originalModel.numRandomStartPoints):\n",
        "    ax.plot3D(Model.trajectory[0,p,:]/1000, Model.trajectory[1,p,:]/1000, Model.trajectory[2,p,:]/1000, color=color, alpha=0.5)\n",
        "  ax.scatter3D(Model.startingPoints[0,:]/1000,Model.startingPoints[1,:]/1000,Model.startingPoints[2,:]/1000,color='orange')\n",
        "  ax.scatter3D(Model.endingPoints[0,:]/1000,Model.endingPoints[1,:]/1000,Model.endingPoints[2,:]/1000,color=color)\n",
        "\n"
      ]
    },
    {
      "cell_type": "markdown",
      "metadata": {
        "id": "pBTWLklRozHp"
      },
      "source": [
        "**Step 4**: Analyze and contrast correlation structure in both cases\n",
        "\n",
        "Replicate paper's method of analyzing this (bottom of figure 1). Ideally, replicate their results when using thier small subset of initial points, but show that it breaks down with more initial points\n"
      ]
    },
    {
      "cell_type": "code",
      "execution_count": 12,
      "metadata": {
        "id": "SR-jXjjW-CYX"
      },
      "outputs": [],
      "source": [
        "from sklearn.linear_model import LinearRegression"
      ]
    },
    {
      "cell_type": "code",
      "execution_count": 13,
      "metadata": {
        "id": "wcwQhLPCB3bK"
      },
      "outputs": [],
      "source": [
        "def pairwisecorr(model,plotting=False):\n",
        "  if plotting:\n",
        "    if model == originalModel:\n",
        "      color='blue'\n",
        "    if model == scaledModel:\n",
        "      color='green'\n",
        "    if model == flippedModel:\n",
        "      color='red'\n",
        "    else:\n",
        "      color='black'\n",
        "  corrmatrix = np.ones((3,3))\n",
        "  coefficients = np.zeros((3,3))\n",
        "  for i in range(3):\n",
        "    for j in range(3):\n",
        "      if i != j:\n",
        "        a = model.endingPoints[i]\n",
        "        A=np.reshape(a,(-1,1))\n",
        "        b=model.endingPoints[j]\n",
        "        reg = LinearRegression().fit(A,b)\n",
        "        corrmatrix[i,j] = reg.score(A,b)\n",
        "        coefficients[i,j] = reg.coef_\n",
        "        if plotting:\n",
        "          plt.scatter(a,b,color=color)\n",
        "          plt.plot(a,reg.predict(A),color=color)\n",
        "          plt.xlabel('g%s'%(i+1))\n",
        "          plt.ylabel('g%s'%(j+1))\n",
        "          plt.show()\n",
        "          print('R^2=',reg.score(A,b))\n",
        "          print(\"Coefficients:\", reg.coef_)\n",
        "  return corrmatrix, coefficients\n"
      ]
    },
    {
      "cell_type": "code",
      "execution_count": 16,
      "metadata": {
        "id": "7nLimKG_L7hD"
      },
      "outputs": [],
      "source": [
        "num_pts = 50\n",
        "centerg1=105\n",
        "centerg2=20\n",
        "centerg3=10\n",
        "randomICs = np.vstack((np.random.normal(centerg1,2.5,size=num_pts),np.random.normal(centerg2,2.5,size=num_pts),np.random.normal(centerg3,2.5,size=num_pts)))\n",
        "originalModelsmallinit = ADHPModel()\n",
        "originalModelsmallinit.simulate(0.01, 300000, randomICs, 1, 100)\n",
        "\n",
        "flippedModelsmallinit = ADHPModel([-70, 0.2, 105, 20, 10], [1,1,4000,6000,-1000,100,109.2,0.08])\n",
        "flippedModelsmallinit.simulate(0.01, 300000, randomICs, 1, 100)\n",
        "\n",
        "scaledModelsmallinit = ADHPModel([-70, 0.2, 105, 20, 10], [1,1,4000,-6000/10,-1000/40,100,109.2,0.08])\n",
        "scaledModelsmallinit.simulate(0.01, 300000, randomICs, 1, 100)"
      ]
    },
    {
      "cell_type": "code",
      "execution_count": 17,
      "metadata": {
        "id": "h4JcG6UFL9_M",
        "colab": {
          "base_uri": "https://localhost:8080/"
        },
        "outputId": "65c7b2da-5a95-43df-f1eb-f1c6fceece43"
      },
      "outputs": [
        {
          "output_type": "stream",
          "name": "stdout",
          "text": [
            "[[ 0.          0.0314045   0.29403606]\n",
            " [ 0.08512202  0.         -0.24872298]\n",
            " [ 2.5735556  -0.80315389  0.        ]]\n",
            "[[ 0.00000000e+00  2.27267466e-01  2.43259976e-01]\n",
            " [ 9.03569151e-01  0.00000000e+00 -3.74639176e-04]\n",
            " [ 3.26024300e+00 -1.26289829e-03  0.00000000e+00]]\n",
            "[[ 0.          0.17252134  0.24285692]\n",
            " [ 0.12304144  0.         -0.22831094]\n",
            " [ 1.57211358 -2.07229511  0.        ]]\n"
          ]
        }
      ],
      "source": [
        "#many points, concentrated initial conditions in same area as paper\n",
        "print(pairwisecorr(originalModelsmallinit)[1])\n",
        "print(pairwisecorr(flippedModelsmallinit)[1])\n",
        "print(pairwisecorr(scaledModelsmallinit)[1])"
      ]
    },
    {
      "cell_type": "code",
      "execution_count": 18,
      "metadata": {
        "colab": {
          "base_uri": "https://localhost:8080/",
          "height": 1000
        },
        "id": "bEfQbFVRBhhB",
        "outputId": "16997d4d-fd2f-439f-e77c-75c7a2b1c642"
      },
      "outputs": [
        {
          "output_type": "display_data",
          "data": {
            "text/plain": [
              "<Figure size 432x288 with 1 Axes>"
            ],
            "image/png": "[encoded data removed]"
          },
          "metadata": {
            "needs_background": "light"
          }
        },
        {
          "output_type": "stream",
          "name": "stdout",
          "text": [
            "R^2= 0.22697920346855072\n",
            "Coefficients: [-0.4270027]\n"
          ]
        },
        {
          "output_type": "display_data",
          "data": {
            "text/plain": [
              "<Figure size 432x288 with 1 Axes>"
            ],
            "image/png": "[encoded data removed]"
          },
          "metadata": {
            "needs_background": "light"
          }
        },
        {
          "output_type": "stream",
          "name": "stdout",
          "text": [
            "R^2= 0.7945038740303418\n",
            "Coefficients: [0.41732597]\n"
          ]
        },
        {
          "output_type": "display_data",
          "data": {
            "text/plain": [
              "<Figure size 432x288 with 1 Axes>"
            ],
            "image/png": "[encoded data removed]"
          },
          "metadata": {
            "needs_background": "light"
          }
        },
        {
          "output_type": "stream",
          "name": "stdout",
          "text": [
            "R^2= 0.22697920346855083\n",
            "Coefficients: [-0.53156386]\n"
          ]
        },
        {
          "output_type": "display_data",
          "data": {
            "text/plain": [
              "<Figure size 432x288 with 1 Axes>"
            ],
            "image/png": "[encoded data removed]"
          },
          "metadata": {
            "needs_background": "light"
          }
        },
        {
          "output_type": "stream",
          "name": "stdout",
          "text": [
            "R^2= 0.6767354249859711\n",
            "Coefficients: [-0.42973356]\n"
          ]
        },
        {
          "output_type": "display_data",
          "data": {
            "text/plain": [
              "<Figure size 432x288 with 1 Axes>"
            ],
            "image/png": "[encoded data removed]"
          },
          "metadata": {
            "needs_background": "light"
          }
        },
        {
          "output_type": "stream",
          "name": "stdout",
          "text": [
            "R^2= 0.7945038740303418\n",
            "Coefficients: [1.90379688]\n"
          ]
        },
        {
          "output_type": "display_data",
          "data": {
            "text/plain": [
              "<Figure size 432x288 with 1 Axes>"
            ],
            "image/png": "[encoded data removed]"
          },
          "metadata": {
            "needs_background": "light"
          }
        },
        {
          "output_type": "stream",
          "name": "stdout",
          "text": [
            "R^2= 0.676735424985972\n",
            "Coefficients: [-1.57477911]\n"
          ]
        },
        {
          "output_type": "execute_result",
          "data": {
            "text/plain": [
              "(array([[1.        , 0.2269792 , 0.79450387],\n",
              "        [0.2269792 , 1.        , 0.67673542],\n",
              "        [0.79450387, 0.67673542, 1.        ]]),\n",
              " array([[ 0.        , -0.4270027 ,  0.41732597],\n",
              "        [-0.53156386,  0.        , -0.42973356],\n",
              "        [ 1.90379688, -1.57477911,  0.        ]]))"
            ]
          },
          "metadata": {},
          "execution_count": 18
        }
      ],
      "source": [
        "#many points, spread out initial conditions\n",
        "pairwisecorr(originalModel,plotting=True)\n"
      ]
    },
    {
      "cell_type": "code",
      "execution_count": 19,
      "metadata": {
        "colab": {
          "base_uri": "https://localhost:8080/"
        },
        "id": "cbMMTycj_GN0",
        "outputId": "865a612e-b78f-4f1b-c22f-66b71567d199"
      },
      "outputs": [
        {
          "output_type": "stream",
          "name": "stdout",
          "text": [
            "[[ 0.         -0.4270027   0.41732597]\n",
            " [-0.53156386  0.         -0.42973356]\n",
            " [ 1.90379688 -1.57477911  0.        ]]\n",
            "[[ 0.         -0.10295372  0.33312352]\n",
            " [-0.2762253   0.         -0.3521249 ]\n",
            " [ 2.43039445 -0.95751763  0.        ]]\n",
            "[[ 0.         -0.26068413  0.35713089]\n",
            " [-0.1749176   0.         -0.31423122]\n",
            " [ 1.57660367 -2.06740485  0.        ]]\n"
          ]
        }
      ],
      "source": [
        "print(pairwisecorr(originalModel)[1])\n",
        "print(pairwisecorr(flippedModel)[1])\n",
        "print(pairwisecorr(scaledModel)[1])"
      ]
    },
    {
      "cell_type": "markdown",
      "metadata": {
        "id": "ghKQR8F86UEo"
      },
      "source": [
        "*Future questions to ask:*\n",
        "*   Time-series level:\n",
        "\n",
        "> * Oscillations in green???\n",
        "*   Are there initial conditions (especially in the flipped/anti-homeostatic case) where a steady state is not reached (or all conductances go to zero)? I expect this to be the case when more initial conditions are considered\n",
        "\n",
        "*   Parameter space level:\n",
        "\n",
        "> * Noise in the system-> stable results? (Glazier's suggestion)\n",
        "*What are the trajectories through parameter space? (Glazier's suggestion)\n",
        "*Map basin of attraction of $Ca^{2+}$ steady state\n",
        "*Fitness landscape (where actually is the desired Ca concentration found?)\n",
        "\n",
        "*  Tau level:\n",
        "\n",
        "> * Identify sets of taus that do and do not converge (as they observed in the article)\n",
        "\n"
      ]
    }
  ],
  "metadata": {
    "colab": {
      "provenance": []
    },
    "kernelspec": {
      "display_name": "Python 3",
      "name": "python3"
    },
    "language_info": {
      "name": "python"
    },
    "widgets": {
      "application/vnd.jupyter.widget-state+json": {
        "10e948462bbd4b93bf9033547e2bd4c1": {
          "model_module": "@jupyter-widgets/controls",
          "model_name": "VBoxModel",
          "model_module_version": "1.5.0",
          "state": {
            "_dom_classes": [
              "widget-interact"
            ],
            "_model_module": "@jupyter-widgets/controls",
            "_model_module_version": "1.5.0",
            "_model_name": "VBoxModel",
            "_view_count": null,
            "_view_module": "@jupyter-widgets/controls",
            "_view_module_version": "1.5.0",
            "_view_name": "VBoxView",
            "box_style": "",
            "children": [
              "IPY_MODEL_3521da2b19174635bf5b11af3a8df883",
              "IPY_MODEL_c48c7541e614493dbeab24dd988c1976",
              "IPY_MODEL_c51ec188fdf441cfb2cbb60e15ce4eca",
              "IPY_MODEL_f187858e6c2f482bb8b750afd68a2c03",
              "IPY_MODEL_6d9315135f754d54b06ffda6e41fc11a",
              "IPY_MODEL_720c66d405d5454586ad83d37d149a4f",
              "IPY_MODEL_f4d217949c0b44478e0e1697f9214f19",
              "IPY_MODEL_881f5fe79ad2483080f2b53b8ea17452",
              "IPY_MODEL_da2a2bd8187f404aa4f730d51452bca3",
              "IPY_MODEL_6c94bc49a72543319e39f02b027ba709"
            ],
            "layout": "IPY_MODEL_b98671b7392049adacc17b9107dfcbdd"
          }
        },
        "3521da2b19174635bf5b11af3a8df883": {
          "model_module": "@jupyter-widgets/controls",
          "model_name": "ToggleButtonsModel",
          "model_module_version": "1.5.0",
          "state": {
            "_dom_classes": [],
            "_model_module": "@jupyter-widgets/controls",
            "_model_module_version": "1.5.0",
            "_model_name": "ToggleButtonsModel",
            "_options_labels": [
              "Original",
              "Flipped",
              "Scaled",
              "Custom"
            ],
            "_view_count": null,
            "_view_module": "@jupyter-widgets/controls",
            "_view_module_version": "1.5.0",
            "_view_name": "ToggleButtonsView",
            "button_style": "",
            "description": "Tau set:",
            "description_tooltip": null,
            "disabled": false,
            "icons": [],
            "index": 0,
            "layout": "IPY_MODEL_c4ab6d5494bd4622bd8c80dcb75823ef",
            "style": "IPY_MODEL_95153c1d351342e898b35e24e6496801",
            "tooltips": [
              "Tau1 = 4000,Tau2 = -6000,Tau3 = -1000",
              "Tau1 = 4000,Tau2 = 6000,Tau3 = -1000",
              "Tau1 = 4000,Tau2 = -6000/10,Tau3 = -1000/40"
            ]
          }
        },
        "c48c7541e614493dbeab24dd988c1976": {
          "model_module": "@jupyter-widgets/controls",
          "model_name": "CheckboxModel",
          "model_module_version": "1.5.0",
          "state": {
            "_dom_classes": [],
            "_model_module": "@jupyter-widgets/controls",
            "_model_module_version": "1.5.0",
            "_model_name": "CheckboxModel",
            "_view_count": null,
            "_view_module": "@jupyter-widgets/controls",
            "_view_module_version": "1.5.0",
            "_view_name": "CheckboxView",
            "description": "Plot Mem. Voltage",
            "description_tooltip": null,
            "disabled": false,
            "indent": false,
            "layout": "IPY_MODEL_50f2f479869c4dc39dc865e2473262d0",
            "style": "IPY_MODEL_112a4e5965324c0f88bb67312266e865",
            "value": false
          }
        },
        "c51ec188fdf441cfb2cbb60e15ce4eca": {
          "model_module": "@jupyter-widgets/controls",
          "model_name": "CheckboxModel",
          "model_module_version": "1.5.0",
          "state": {
            "_dom_classes": [],
            "_model_module": "@jupyter-widgets/controls",
            "_model_module_version": "1.5.0",
            "_model_name": "CheckboxModel",
            "_view_count": null,
            "_view_module": "@jupyter-widgets/controls",
            "_view_module_version": "1.5.0",
            "_view_name": "CheckboxView",
            "description": "Plot g1",
            "description_tooltip": null,
            "disabled": false,
            "indent": false,
            "layout": "IPY_MODEL_d0be40f9d6eb42d9952afe6d642303ef",
            "style": "IPY_MODEL_6a84e5900f97428d91b39c56a2c80c3c",
            "value": true
          }
        },
        "f187858e6c2f482bb8b750afd68a2c03": {
          "model_module": "@jupyter-widgets/controls",
          "model_name": "CheckboxModel",
          "model_module_version": "1.5.0",
          "state": {
            "_dom_classes": [],
            "_model_module": "@jupyter-widgets/controls",
            "_model_module_version": "1.5.0",
            "_model_name": "CheckboxModel",
            "_view_count": null,
            "_view_module": "@jupyter-widgets/controls",
            "_view_module_version": "1.5.0",
            "_view_name": "CheckboxView",
            "description": "Plot g2",
            "description_tooltip": null,
            "disabled": false,
            "indent": false,
            "layout": "IPY_MODEL_9ee2de124cfa4072af3c53949978c6b4",
            "style": "IPY_MODEL_f2182ecd02ab4eda9a8881d4a8f4f446",
            "value": true
          }
        },
        "6d9315135f754d54b06ffda6e41fc11a": {
          "model_module": "@jupyter-widgets/controls",
          "model_name": "CheckboxModel",
          "model_module_version": "1.5.0",
          "state": {
            "_dom_classes": [],
            "_model_module": "@jupyter-widgets/controls",
            "_model_module_version": "1.5.0",
            "_model_name": "CheckboxModel",
            "_view_count": null,
            "_view_module": "@jupyter-widgets/controls",
            "_view_module_version": "1.5.0",
            "_view_name": "CheckboxView",
            "description": "Plot g3",
            "description_tooltip": null,
            "disabled": false,
            "indent": false,
            "layout": "IPY_MODEL_c5aa68d7721949e9954daf13ed97fec1",
            "style": "IPY_MODEL_0df19ab9b14c4ab5b4bf0712690b857c",
            "value": true
          }
        },
        "720c66d405d5454586ad83d37d149a4f": {
          "model_module": "@jupyter-widgets/controls",
          "model_name": "CheckboxModel",
          "model_module_version": "1.5.0",
          "state": {
            "_dom_classes": [],
            "_model_module": "@jupyter-widgets/controls",
            "_model_module_version": "1.5.0",
            "_model_name": "CheckboxModel",
            "_view_count": null,
            "_view_module": "@jupyter-widgets/controls",
            "_view_module_version": "1.5.0",
            "_view_name": "CheckboxView",
            "description": "Plot [Ca]",
            "description_tooltip": null,
            "disabled": false,
            "indent": false,
            "layout": "IPY_MODEL_e811dd4ad5d64161b612191b66132d65",
            "style": "IPY_MODEL_62ed0d12cbd34a91ae95c6d00202c3e3",
            "value": false
          }
        },
        "f4d217949c0b44478e0e1697f9214f19": {
          "model_module": "@jupyter-widgets/controls",
          "model_name": "BoundedFloatTextModel",
          "model_module_version": "1.5.0",
          "state": {
            "_dom_classes": [],
            "_model_module": "@jupyter-widgets/controls",
            "_model_module_version": "1.5.0",
            "_model_name": "BoundedFloatTextModel",
            "_view_count": null,
            "_view_module": "@jupyter-widgets/controls",
            "_view_module_version": "1.5.0",
            "_view_name": "FloatTextView",
            "continuous_update": true,
            "description": "Custom Tau1:",
            "description_tooltip": null,
            "disabled": false,
            "layout": "IPY_MODEL_a8e36d37df2b41b6ab2215c6f2bda040",
            "max": 9000,
            "min": -9000,
            "step": 100,
            "style": "IPY_MODEL_2e3af80a27074e7eba81f86736e9de12",
            "value": 4000
          }
        },
        "881f5fe79ad2483080f2b53b8ea17452": {
          "model_module": "@jupyter-widgets/controls",
          "model_name": "BoundedFloatTextModel",
          "model_module_version": "1.5.0",
          "state": {
            "_dom_classes": [],
            "_model_module": "@jupyter-widgets/controls",
            "_model_module_version": "1.5.0",
            "_model_name": "BoundedFloatTextModel",
            "_view_count": null,
            "_view_module": "@jupyter-widgets/controls",
            "_view_module_version": "1.5.0",
            "_view_name": "FloatTextView",
            "continuous_update": true,
            "description": "Custom Tau2:",
            "description_tooltip": null,
            "disabled": false,
            "layout": "IPY_MODEL_4217e3735b0c401ab2c495ef5321bc7c",
            "max": 9000,
            "min": -9000,
            "step": 100,
            "style": "IPY_MODEL_75676e0acbdf4af4a471b1025c49e03a",
            "value": -6000
          }
        },
        "da2a2bd8187f404aa4f730d51452bca3": {
          "model_module": "@jupyter-widgets/controls",
          "model_name": "BoundedFloatTextModel",
          "model_module_version": "1.5.0",
          "state": {
            "_dom_classes": [],
            "_model_module": "@jupyter-widgets/controls",
            "_model_module_version": "1.5.0",
            "_model_name": "BoundedFloatTextModel",
            "_view_count": null,
            "_view_module": "@jupyter-widgets/controls",
            "_view_module_version": "1.5.0",
            "_view_name": "FloatTextView",
            "continuous_update": true,
            "description": "Custom Tau3:",
            "description_tooltip": null,
            "disabled": false,
            "layout": "IPY_MODEL_2cf31db6849f45da8f2239ef164815ce",
            "max": 9000,
            "min": -9000,
            "step": 100,
            "style": "IPY_MODEL_67c753a197144a4ab488343b1a08a51d",
            "value": -1000
          }
        },
        "6c94bc49a72543319e39f02b027ba709": {
          "model_module": "@jupyter-widgets/output",
          "model_name": "OutputModel",
          "model_module_version": "1.0.0",
          "state": {
            "_dom_classes": [],
            "_model_module": "@jupyter-widgets/output",
            "_model_module_version": "1.0.0",
            "_model_name": "OutputModel",
            "_view_count": null,
            "_view_module": "@jupyter-widgets/output",
            "_view_module_version": "1.0.0",
            "_view_name": "OutputView",
            "layout": "IPY_MODEL_7414c03d26414a459e9404a656a35add",
            "msg_id": "",
            "outputs": [
              {
                "output_type": "stream",
                "name": "stdout",
                "text": [
                  "*Custom taus not used unless \"Custom\" is highlighted\n",
                  "Final [Ca] (μM): 0.9947389735705077\n",
                  "Final Voltage (mV): -58.71557902909501\n"
                ]
              },
              {
                "output_type": "display_data",
                "data": {
                  "text/plain": "<Figure size 2160x720 with 2 Axes>",
                  "image/png": "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\n"
                },
                "metadata": {
                  "needs_background": "light"
                }
              }
            ]
          }
        },
        "b98671b7392049adacc17b9107dfcbdd": {
          "model_module": "@jupyter-widgets/base",
          "model_name": "LayoutModel",
          "model_module_version": "1.2.0",
          "state": {
            "_model_module": "@jupyter-widgets/base",
            "_model_module_version": "1.2.0",
            "_model_name": "LayoutModel",
            "_view_count": null,
            "_view_module": "@jupyter-widgets/base",
            "_view_module_version": "1.2.0",
            "_view_name": "LayoutView",
            "align_content": null,
            "align_items": null,
            "align_self": null,
            "border": null,
            "bottom": null,
            "display": null,
            "flex": null,
            "flex_flow": null,
            "grid_area": null,
            "grid_auto_columns": null,
            "grid_auto_flow": null,
            "grid_auto_rows": null,
            "grid_column": null,
            "grid_gap": null,
            "grid_row": null,
            "grid_template_areas": null,
            "grid_template_columns": null,
            "grid_template_rows": null,
            "height": null,
            "justify_content": null,
            "justify_items": null,
            "left": null,
            "margin": null,
            "max_height": null,
            "max_width": null,
            "min_height": null,
            "min_width": null,
            "object_fit": null,
            "object_position": null,
            "order": null,
            "overflow": null,
            "overflow_x": null,
            "overflow_y": null,
            "padding": null,
            "right": null,
            "top": null,
            "visibility": null,
            "width": null
          }
        },
        "c4ab6d5494bd4622bd8c80dcb75823ef": {
          "model_module": "@jupyter-widgets/base",
          "model_name": "LayoutModel",
          "model_module_version": "1.2.0",
          "state": {
            "_model_module": "@jupyter-widgets/base",
            "_model_module_version": "1.2.0",
            "_model_name": "LayoutModel",
            "_view_count": null,
            "_view_module": "@jupyter-widgets/base",
            "_view_module_version": "1.2.0",
            "_view_name": "LayoutView",
            "align_content": null,
            "align_items": null,
            "align_self": null,
            "border": null,
            "bottom": null,
            "display": null,
            "flex": null,
            "flex_flow": null,
            "grid_area": null,
            "grid_auto_columns": null,
            "grid_auto_flow": null,
            "grid_auto_rows": null,
            "grid_column": null,
            "grid_gap": null,
            "grid_row": null,
            "grid_template_areas": null,
            "grid_template_columns": null,
            "grid_template_rows": null,
            "height": null,
            "justify_content": null,
            "justify_items": null,
            "left": null,
            "margin": null,
            "max_height": null,
            "max_width": null,
            "min_height": null,
            "min_width": null,
            "object_fit": null,
            "object_position": null,
            "order": null,
            "overflow": null,
            "overflow_x": null,
            "overflow_y": null,
            "padding": null,
            "right": null,
            "top": null,
            "visibility": null,
            "width": null
          }
        },
        "95153c1d351342e898b35e24e6496801": {
          "model_module": "@jupyter-widgets/controls",
          "model_name": "ToggleButtonsStyleModel",
          "model_module_version": "1.5.0",
          "state": {
            "_model_module": "@jupyter-widgets/controls",
            "_model_module_version": "1.5.0",
            "_model_name": "ToggleButtonsStyleModel",
            "_view_count": null,
            "_view_module": "@jupyter-widgets/base",
            "_view_module_version": "1.2.0",
            "_view_name": "StyleView",
            "button_width": "",
            "description_width": "",
            "font_weight": ""
          }
        },
        "50f2f479869c4dc39dc865e2473262d0": {
          "model_module": "@jupyter-widgets/base",
          "model_name": "LayoutModel",
          "model_module_version": "1.2.0",
          "state": {
            "_model_module": "@jupyter-widgets/base",
            "_model_module_version": "1.2.0",
            "_model_name": "LayoutModel",
            "_view_count": null,
            "_view_module": "@jupyter-widgets/base",
            "_view_module_version": "1.2.0",
            "_view_name": "LayoutView",
            "align_content": null,
            "align_items": null,
            "align_self": null,
            "border": null,
            "bottom": null,
            "display": null,
            "flex": null,
            "flex_flow": null,
            "grid_area": null,
            "grid_auto_columns": null,
            "grid_auto_flow": null,
            "grid_auto_rows": null,
            "grid_column": null,
            "grid_gap": null,
            "grid_row": null,
            "grid_template_areas": null,
            "grid_template_columns": null,
            "grid_template_rows": null,
            "height": null,
            "justify_content": null,
            "justify_items": null,
            "left": null,
            "margin": null,
            "max_height": null,
            "max_width": null,
            "min_height": null,
            "min_width": null,
            "object_fit": null,
            "object_position": null,
            "order": null,
            "overflow": null,
            "overflow_x": null,
            "overflow_y": null,
            "padding": null,
            "right": null,
            "top": null,
            "visibility": null,
            "width": null
          }
        },
        "112a4e5965324c0f88bb67312266e865": {
          "model_module": "@jupyter-widgets/controls",
          "model_name": "DescriptionStyleModel",
          "model_module_version": "1.5.0",
          "state": {
            "_model_module": "@jupyter-widgets/controls",
            "_model_module_version": "1.5.0",
            "_model_name": "DescriptionStyleModel",
            "_view_count": null,
            "_view_module": "@jupyter-widgets/base",
            "_view_module_version": "1.2.0",
            "_view_name": "StyleView",
            "description_width": ""
          }
        },
        "d0be40f9d6eb42d9952afe6d642303ef": {
          "model_module": "@jupyter-widgets/base",
          "model_name": "LayoutModel",
          "model_module_version": "1.2.0",
          "state": {
            "_model_module": "@jupyter-widgets/base",
            "_model_module_version": "1.2.0",
            "_model_name": "LayoutModel",
            "_view_count": null,
            "_view_module": "@jupyter-widgets/base",
            "_view_module_version": "1.2.0",
            "_view_name": "LayoutView",
            "align_content": null,
            "align_items": null,
            "align_self": null,
            "border": null,
            "bottom": null,
            "display": null,
            "flex": null,
            "flex_flow": null,
            "grid_area": null,
            "grid_auto_columns": null,
            "grid_auto_flow": null,
            "grid_auto_rows": null,
            "grid_column": null,
            "grid_gap": null,
            "grid_row": null,
            "grid_template_areas": null,
            "grid_template_columns": null,
            "grid_template_rows": null,
            "height": null,
            "justify_content": null,
            "justify_items": null,
            "left": null,
            "margin": null,
            "max_height": null,
            "max_width": null,
            "min_height": null,
            "min_width": null,
            "object_fit": null,
            "object_position": null,
            "order": null,
            "overflow": null,
            "overflow_x": null,
            "overflow_y": null,
            "padding": null,
            "right": null,
            "top": null,
            "visibility": null,
            "width": null
          }
        },
        "6a84e5900f97428d91b39c56a2c80c3c": {
          "model_module": "@jupyter-widgets/controls",
          "model_name": "DescriptionStyleModel",
          "model_module_version": "1.5.0",
          "state": {
            "_model_module": "@jupyter-widgets/controls",
            "_model_module_version": "1.5.0",
            "_model_name": "DescriptionStyleModel",
            "_view_count": null,
            "_view_module": "@jupyter-widgets/base",
            "_view_module_version": "1.2.0",
            "_view_name": "StyleView",
            "description_width": ""
          }
        },
        "9ee2de124cfa4072af3c53949978c6b4": {
          "model_module": "@jupyter-widgets/base",
          "model_name": "LayoutModel",
          "model_module_version": "1.2.0",
          "state": {
            "_model_module": "@jupyter-widgets/base",
            "_model_module_version": "1.2.0",
            "_model_name": "LayoutModel",
            "_view_count": null,
            "_view_module": "@jupyter-widgets/base",
            "_view_module_version": "1.2.0",
            "_view_name": "LayoutView",
            "align_content": null,
            "align_items": null,
            "align_self": null,
            "border": null,
            "bottom": null,
            "display": null,
            "flex": null,
            "flex_flow": null,
            "grid_area": null,
            "grid_auto_columns": null,
            "grid_auto_flow": null,
            "grid_auto_rows": null,
            "grid_column": null,
            "grid_gap": null,
            "grid_row": null,
            "grid_template_areas": null,
            "grid_template_columns": null,
            "grid_template_rows": null,
            "height": null,
            "justify_content": null,
            "justify_items": null,
            "left": null,
            "margin": null,
            "max_height": null,
            "max_width": null,
            "min_height": null,
            "min_width": null,
            "object_fit": null,
            "object_position": null,
            "order": null,
            "overflow": null,
            "overflow_x": null,
            "overflow_y": null,
            "padding": null,
            "right": null,
            "top": null,
            "visibility": null,
            "width": null
          }
        },
        "f2182ecd02ab4eda9a8881d4a8f4f446": {
          "model_module": "@jupyter-widgets/controls",
          "model_name": "DescriptionStyleModel",
          "model_module_version": "1.5.0",
          "state": {
            "_model_module": "@jupyter-widgets/controls",
            "_model_module_version": "1.5.0",
            "_model_name": "DescriptionStyleModel",
            "_view_count": null,
            "_view_module": "@jupyter-widgets/base",
            "_view_module_version": "1.2.0",
            "_view_name": "StyleView",
            "description_width": ""
          }
        },
        "c5aa68d7721949e9954daf13ed97fec1": {
          "model_module": "@jupyter-widgets/base",
          "model_name": "LayoutModel",
          "model_module_version": "1.2.0",
          "state": {
            "_model_module": "@jupyter-widgets/base",
            "_model_module_version": "1.2.0",
            "_model_name": "LayoutModel",
            "_view_count": null,
            "_view_module": "@jupyter-widgets/base",
            "_view_module_version": "1.2.0",
            "_view_name": "LayoutView",
            "align_content": null,
            "align_items": null,
            "align_self": null,
            "border": null,
            "bottom": null,
            "display": null,
            "flex": null,
            "flex_flow": null,
            "grid_area": null,
            "grid_auto_columns": null,
            "grid_auto_flow": null,
            "grid_auto_rows": null,
            "grid_column": null,
            "grid_gap": null,
            "grid_row": null,
            "grid_template_areas": null,
            "grid_template_columns": null,
            "grid_template_rows": null,
            "height": null,
            "justify_content": null,
            "justify_items": null,
            "left": null,
            "margin": null,
            "max_height": null,
            "max_width": null,
            "min_height": null,
            "min_width": null,
            "object_fit": null,
            "object_position": null,
            "order": null,
            "overflow": null,
            "overflow_x": null,
            "overflow_y": null,
            "padding": null,
            "right": null,
            "top": null,
            "visibility": null,
            "width": null
          }
        },
        "0df19ab9b14c4ab5b4bf0712690b857c": {
          "model_module": "@jupyter-widgets/controls",
          "model_name": "DescriptionStyleModel",
          "model_module_version": "1.5.0",
          "state": {
            "_model_module": "@jupyter-widgets/controls",
            "_model_module_version": "1.5.0",
            "_model_name": "DescriptionStyleModel",
            "_view_count": null,
            "_view_module": "@jupyter-widgets/base",
            "_view_module_version": "1.2.0",
            "_view_name": "StyleView",
            "description_width": ""
          }
        },
        "e811dd4ad5d64161b612191b66132d65": {
          "model_module": "@jupyter-widgets/base",
          "model_name": "LayoutModel",
          "model_module_version": "1.2.0",
          "state": {
            "_model_module": "@jupyter-widgets/base",
            "_model_module_version": "1.2.0",
            "_model_name": "LayoutModel",
            "_view_count": null,
            "_view_module": "@jupyter-widgets/base",
            "_view_module_version": "1.2.0",
            "_view_name": "LayoutView",
            "align_content": null,
            "align_items": null,
            "align_self": null,
            "border": null,
            "bottom": null,
            "display": null,
            "flex": null,
            "flex_flow": null,
            "grid_area": null,
            "grid_auto_columns": null,
            "grid_auto_flow": null,
            "grid_auto_rows": null,
            "grid_column": null,
            "grid_gap": null,
            "grid_row": null,
            "grid_template_areas": null,
            "grid_template_columns": null,
            "grid_template_rows": null,
            "height": null,
            "justify_content": null,
            "justify_items": null,
            "left": null,
            "margin": null,
            "max_height": null,
            "max_width": null,
            "min_height": null,
            "min_width": null,
            "object_fit": null,
            "object_position": null,
            "order": null,
            "overflow": null,
            "overflow_x": null,
            "overflow_y": null,
            "padding": null,
            "right": null,
            "top": null,
            "visibility": null,
            "width": null
          }
        },
        "62ed0d12cbd34a91ae95c6d00202c3e3": {
          "model_module": "@jupyter-widgets/controls",
          "model_name": "DescriptionStyleModel",
          "model_module_version": "1.5.0",
          "state": {
            "_model_module": "@jupyter-widgets/controls",
            "_model_module_version": "1.5.0",
            "_model_name": "DescriptionStyleModel",
            "_view_count": null,
            "_view_module": "@jupyter-widgets/base",
            "_view_module_version": "1.2.0",
            "_view_name": "StyleView",
            "description_width": ""
          }
        },
        "a8e36d37df2b41b6ab2215c6f2bda040": {
          "model_module": "@jupyter-widgets/base",
          "model_name": "LayoutModel",
          "model_module_version": "1.2.0",
          "state": {
            "_model_module": "@jupyter-widgets/base",
            "_model_module_version": "1.2.0",
            "_model_name": "LayoutModel",
            "_view_count": null,
            "_view_module": "@jupyter-widgets/base",
            "_view_module_version": "1.2.0",
            "_view_name": "LayoutView",
            "align_content": null,
            "align_items": null,
            "align_self": null,
            "border": null,
            "bottom": null,
            "display": null,
            "flex": null,
            "flex_flow": null,
            "grid_area": null,
            "grid_auto_columns": null,
            "grid_auto_flow": null,
            "grid_auto_rows": null,
            "grid_column": null,
            "grid_gap": null,
            "grid_row": null,
            "grid_template_areas": null,
            "grid_template_columns": null,
            "grid_template_rows": null,
            "height": null,
            "justify_content": null,
            "justify_items": null,
            "left": null,
            "margin": null,
            "max_height": null,
            "max_width": null,
            "min_height": null,
            "min_width": null,
            "object_fit": null,
            "object_position": null,
            "order": null,
            "overflow": null,
            "overflow_x": null,
            "overflow_y": null,
            "padding": null,
            "right": null,
            "top": null,
            "visibility": null,
            "width": null
          }
        },
        "2e3af80a27074e7eba81f86736e9de12": {
          "model_module": "@jupyter-widgets/controls",
          "model_name": "DescriptionStyleModel",
          "model_module_version": "1.5.0",
          "state": {
            "_model_module": "@jupyter-widgets/controls",
            "_model_module_version": "1.5.0",
            "_model_name": "DescriptionStyleModel",
            "_view_count": null,
            "_view_module": "@jupyter-widgets/base",
            "_view_module_version": "1.2.0",
            "_view_name": "StyleView",
            "description_width": ""
          }
        },
        "4217e3735b0c401ab2c495ef5321bc7c": {
          "model_module": "@jupyter-widgets/base",
          "model_name": "LayoutModel",
          "model_module_version": "1.2.0",
          "state": {
            "_model_module": "@jupyter-widgets/base",
            "_model_module_version": "1.2.0",
            "_model_name": "LayoutModel",
            "_view_count": null,
            "_view_module": "@jupyter-widgets/base",
            "_view_module_version": "1.2.0",
            "_view_name": "LayoutView",
            "align_content": null,
            "align_items": null,
            "align_self": null,
            "border": null,
            "bottom": null,
            "display": null,
            "flex": null,
            "flex_flow": null,
            "grid_area": null,
            "grid_auto_columns": null,
            "grid_auto_flow": null,
            "grid_auto_rows": null,
            "grid_column": null,
            "grid_gap": null,
            "grid_row": null,
            "grid_template_areas": null,
            "grid_template_columns": null,
            "grid_template_rows": null,
            "height": null,
            "justify_content": null,
            "justify_items": null,
            "left": null,
            "margin": null,
            "max_height": null,
            "max_width": null,
            "min_height": null,
            "min_width": null,
            "object_fit": null,
            "object_position": null,
            "order": null,
            "overflow": null,
            "overflow_x": null,
            "overflow_y": null,
            "padding": null,
            "right": null,
            "top": null,
            "visibility": null,
            "width": null
          }
        },
        "75676e0acbdf4af4a471b1025c49e03a": {
          "model_module": "@jupyter-widgets/controls",
          "model_name": "DescriptionStyleModel",
          "model_module_version": "1.5.0",
          "state": {
            "_model_module": "@jupyter-widgets/controls",
            "_model_module_version": "1.5.0",
            "_model_name": "DescriptionStyleModel",
            "_view_count": null,
            "_view_module": "@jupyter-widgets/base",
            "_view_module_version": "1.2.0",
            "_view_name": "StyleView",
            "description_width": ""
          }
        },
        "2cf31db6849f45da8f2239ef164815ce": {
          "model_module": "@jupyter-widgets/base",
          "model_name": "LayoutModel",
          "model_module_version": "1.2.0",
          "state": {
            "_model_module": "@jupyter-widgets/base",
            "_model_module_version": "1.2.0",
            "_model_name": "LayoutModel",
            "_view_count": null,
            "_view_module": "@jupyter-widgets/base",
            "_view_module_version": "1.2.0",
            "_view_name": "LayoutView",
            "align_content": null,
            "align_items": null,
            "align_self": null,
            "border": null,
            "bottom": null,
            "display": null,
            "flex": null,
            "flex_flow": null,
            "grid_area": null,
            "grid_auto_columns": null,
            "grid_auto_flow": null,
            "grid_auto_rows": null,
            "grid_column": null,
            "grid_gap": null,
            "grid_row": null,
            "grid_template_areas": null,
            "grid_template_columns": null,
            "grid_template_rows": null,
            "height": null,
            "justify_content": null,
            "justify_items": null,
            "left": null,
            "margin": null,
            "max_height": null,
            "max_width": null,
            "min_height": null,
            "min_width": null,
            "object_fit": null,
            "object_position": null,
            "order": null,
            "overflow": null,
            "overflow_x": null,
            "overflow_y": null,
            "padding": null,
            "right": null,
            "top": null,
            "visibility": null,
            "width": null
          }
        },
        "67c753a197144a4ab488343b1a08a51d": {
          "model_module": "@jupyter-widgets/controls",
          "model_name": "DescriptionStyleModel",
          "model_module_version": "1.5.0",
          "state": {
            "_model_module": "@jupyter-widgets/controls",
            "_model_module_version": "1.5.0",
            "_model_name": "DescriptionStyleModel",
            "_view_count": null,
            "_view_module": "@jupyter-widgets/base",
            "_view_module_version": "1.2.0",
            "_view_name": "StyleView",
            "description_width": ""
          }
        },
        "7414c03d26414a459e9404a656a35add": {
          "model_module": "@jupyter-widgets/base",
          "model_name": "LayoutModel",
          "model_module_version": "1.2.0",
          "state": {
            "_model_module": "@jupyter-widgets/base",
            "_model_module_version": "1.2.0",
            "_model_name": "LayoutModel",
            "_view_count": null,
            "_view_module": "@jupyter-widgets/base",
            "_view_module_version": "1.2.0",
            "_view_name": "LayoutView",
            "align_content": null,
            "align_items": null,
            "align_self": null,
            "border": null,
            "bottom": null,
            "display": null,
            "flex": null,
            "flex_flow": null,
            "grid_area": null,
            "grid_auto_columns": null,
            "grid_auto_flow": null,
            "grid_auto_rows": null,
            "grid_column": null,
            "grid_gap": null,
            "grid_row": null,
            "grid_template_areas": null,
            "grid_template_columns": null,
            "grid_template_rows": null,
            "height": null,
            "justify_content": null,
            "justify_items": null,
            "left": null,
            "margin": null,
            "max_height": null,
            "max_width": null,
            "min_height": null,
            "min_width": null,
            "object_fit": null,
            "object_position": null,
            "order": null,
            "overflow": null,
            "overflow_x": null,
            "overflow_y": null,
            "padding": null,
            "right": null,
            "top": null,
            "visibility": null,
            "width": null
          }
        },
        "794942c373aa435b940a419c5299461f": {
          "model_module": "@jupyter-widgets/controls",
          "model_name": "CheckboxModel",
          "model_module_version": "1.5.0",
          "state": {
            "_dom_classes": [],
            "_model_module": "@jupyter-widgets/controls",
            "_model_module_version": "1.5.0",
            "_model_name": "CheckboxModel",
            "_view_count": null,
            "_view_module": "@jupyter-widgets/controls",
            "_view_module_version": "1.5.0",
            "_view_name": "CheckboxView",
            "description": "Original Taus",
            "description_tooltip": null,
            "disabled": false,
            "indent": false,
            "layout": "IPY_MODEL_b66a873c0e7c4d0f83465d07b1f43df0",
            "style": "IPY_MODEL_7af38e2b25354c8a866277d008f7256f",
            "value": true
          }
        },
        "b66a873c0e7c4d0f83465d07b1f43df0": {
          "model_module": "@jupyter-widgets/base",
          "model_name": "LayoutModel",
          "model_module_version": "1.2.0",
          "state": {
            "_model_module": "@jupyter-widgets/base",
            "_model_module_version": "1.2.0",
            "_model_name": "LayoutModel",
            "_view_count": null,
            "_view_module": "@jupyter-widgets/base",
            "_view_module_version": "1.2.0",
            "_view_name": "LayoutView",
            "align_content": null,
            "align_items": null,
            "align_self": null,
            "border": null,
            "bottom": null,
            "display": null,
            "flex": null,
            "flex_flow": null,
            "grid_area": null,
            "grid_auto_columns": null,
            "grid_auto_flow": null,
            "grid_auto_rows": null,
            "grid_column": null,
            "grid_gap": null,
            "grid_row": null,
            "grid_template_areas": null,
            "grid_template_columns": null,
            "grid_template_rows": null,
            "height": null,
            "justify_content": null,
            "justify_items": null,
            "left": null,
            "margin": null,
            "max_height": null,
            "max_width": null,
            "min_height": null,
            "min_width": null,
            "object_fit": null,
            "object_position": null,
            "order": null,
            "overflow": null,
            "overflow_x": null,
            "overflow_y": null,
            "padding": null,
            "right": null,
            "top": null,
            "visibility": null,
            "width": null
          }
        },
        "7af38e2b25354c8a866277d008f7256f": {
          "model_module": "@jupyter-widgets/controls",
          "model_name": "DescriptionStyleModel",
          "model_module_version": "1.5.0",
          "state": {
            "_model_module": "@jupyter-widgets/controls",
            "_model_module_version": "1.5.0",
            "_model_name": "DescriptionStyleModel",
            "_view_count": null,
            "_view_module": "@jupyter-widgets/base",
            "_view_module_version": "1.2.0",
            "_view_name": "StyleView",
            "description_width": ""
          }
        },
        "0d654aed5a564e2bb7e4d626beb3f48a": {
          "model_module": "@jupyter-widgets/controls",
          "model_name": "CheckboxModel",
          "model_module_version": "1.5.0",
          "state": {
            "_dom_classes": [],
            "_model_module": "@jupyter-widgets/controls",
            "_model_module_version": "1.5.0",
            "_model_name": "CheckboxModel",
            "_view_count": null,
            "_view_module": "@jupyter-widgets/controls",
            "_view_module_version": "1.5.0",
            "_view_name": "CheckboxView",
            "description": "Flipped Taus",
            "description_tooltip": null,
            "disabled": false,
            "indent": false,
            "layout": "IPY_MODEL_ce2801a8af9b461eab35b929a526638d",
            "style": "IPY_MODEL_998b06cbb8524f349d69c5c2bf6c0bd9",
            "value": true
          }
        },
        "ce2801a8af9b461eab35b929a526638d": {
          "model_module": "@jupyter-widgets/base",
          "model_name": "LayoutModel",
          "model_module_version": "1.2.0",
          "state": {
            "_model_module": "@jupyter-widgets/base",
            "_model_module_version": "1.2.0",
            "_model_name": "LayoutModel",
            "_view_count": null,
            "_view_module": "@jupyter-widgets/base",
            "_view_module_version": "1.2.0",
            "_view_name": "LayoutView",
            "align_content": null,
            "align_items": null,
            "align_self": null,
            "border": null,
            "bottom": null,
            "display": null,
            "flex": null,
            "flex_flow": null,
            "grid_area": null,
            "grid_auto_columns": null,
            "grid_auto_flow": null,
            "grid_auto_rows": null,
            "grid_column": null,
            "grid_gap": null,
            "grid_row": null,
            "grid_template_areas": null,
            "grid_template_columns": null,
            "grid_template_rows": null,
            "height": null,
            "justify_content": null,
            "justify_items": null,
            "left": null,
            "margin": null,
            "max_height": null,
            "max_width": null,
            "min_height": null,
            "min_width": null,
            "object_fit": null,
            "object_position": null,
            "order": null,
            "overflow": null,
            "overflow_x": null,
            "overflow_y": null,
            "padding": null,
            "right": null,
            "top": null,
            "visibility": null,
            "width": null
          }
        },
        "998b06cbb8524f349d69c5c2bf6c0bd9": {
          "model_module": "@jupyter-widgets/controls",
          "model_name": "DescriptionStyleModel",
          "model_module_version": "1.5.0",
          "state": {
            "_model_module": "@jupyter-widgets/controls",
            "_model_module_version": "1.5.0",
            "_model_name": "DescriptionStyleModel",
            "_view_count": null,
            "_view_module": "@jupyter-widgets/base",
            "_view_module_version": "1.2.0",
            "_view_name": "StyleView",
            "description_width": ""
          }
        },
        "b0134de7a8ae4404becebfdc1231103c": {
          "model_module": "@jupyter-widgets/controls",
          "model_name": "CheckboxModel",
          "model_module_version": "1.5.0",
          "state": {
            "_dom_classes": [],
            "_model_module": "@jupyter-widgets/controls",
            "_model_module_version": "1.5.0",
            "_model_name": "CheckboxModel",
            "_view_count": null,
            "_view_module": "@jupyter-widgets/controls",
            "_view_module_version": "1.5.0",
            "_view_name": "CheckboxView",
            "description": "Scaled Taus",
            "description_tooltip": null,
            "disabled": false,
            "indent": false,
            "layout": "IPY_MODEL_302be99903d7494f9e9e4359f0ed0842",
            "style": "IPY_MODEL_d14f67f922804e7f9db3253166f78290",
            "value": true
          }
        },
        "302be99903d7494f9e9e4359f0ed0842": {
          "model_module": "@jupyter-widgets/base",
          "model_name": "LayoutModel",
          "model_module_version": "1.2.0",
          "state": {
            "_model_module": "@jupyter-widgets/base",
            "_model_module_version": "1.2.0",
            "_model_name": "LayoutModel",
            "_view_count": null,
            "_view_module": "@jupyter-widgets/base",
            "_view_module_version": "1.2.0",
            "_view_name": "LayoutView",
            "align_content": null,
            "align_items": null,
            "align_self": null,
            "border": null,
            "bottom": null,
            "display": null,
            "flex": null,
            "flex_flow": null,
            "grid_area": null,
            "grid_auto_columns": null,
            "grid_auto_flow": null,
            "grid_auto_rows": null,
            "grid_column": null,
            "grid_gap": null,
            "grid_row": null,
            "grid_template_areas": null,
            "grid_template_columns": null,
            "grid_template_rows": null,
            "height": null,
            "justify_content": null,
            "justify_items": null,
            "left": null,
            "margin": null,
            "max_height": null,
            "max_width": null,
            "min_height": null,
            "min_width": null,
            "object_fit": null,
            "object_position": null,
            "order": null,
            "overflow": null,
            "overflow_x": null,
            "overflow_y": null,
            "padding": null,
            "right": null,
            "top": null,
            "visibility": null,
            "width": null
          }
        },
        "d14f67f922804e7f9db3253166f78290": {
          "model_module": "@jupyter-widgets/controls",
          "model_name": "DescriptionStyleModel",
          "model_module_version": "1.5.0",
          "state": {
            "_model_module": "@jupyter-widgets/controls",
            "_model_module_version": "1.5.0",
            "_model_name": "DescriptionStyleModel",
            "_view_count": null,
            "_view_module": "@jupyter-widgets/base",
            "_view_module_version": "1.2.0",
            "_view_name": "StyleView",
            "description_width": ""
          }
        },
        "72c9ce612a8f41f594790856c2e53209": {
          "model_module": "@jupyter-widgets/controls",
          "model_name": "CheckboxModel",
          "model_module_version": "1.5.0",
          "state": {
            "_dom_classes": [],
            "_model_module": "@jupyter-widgets/controls",
            "_model_module_version": "1.5.0",
            "_model_name": "CheckboxModel",
            "_view_count": null,
            "_view_module": "@jupyter-widgets/controls",
            "_view_module_version": "1.5.0",
            "_view_name": "CheckboxView",
            "description": "Custom Taus",
            "description_tooltip": null,
            "disabled": false,
            "indent": false,
            "layout": "IPY_MODEL_b17d7fa0664b476f801dd64a3f089b14",
            "style": "IPY_MODEL_9959283cd1894e9ea222971b38bdeeb1",
            "value": false
          }
        },
        "b17d7fa0664b476f801dd64a3f089b14": {
          "model_module": "@jupyter-widgets/base",
          "model_name": "LayoutModel",
          "model_module_version": "1.2.0",
          "state": {
            "_model_module": "@jupyter-widgets/base",
            "_model_module_version": "1.2.0",
            "_model_name": "LayoutModel",
            "_view_count": null,
            "_view_module": "@jupyter-widgets/base",
            "_view_module_version": "1.2.0",
            "_view_name": "LayoutView",
            "align_content": null,
            "align_items": null,
            "align_self": null,
            "border": null,
            "bottom": null,
            "display": null,
            "flex": null,
            "flex_flow": null,
            "grid_area": null,
            "grid_auto_columns": null,
            "grid_auto_flow": null,
            "grid_auto_rows": null,
            "grid_column": null,
            "grid_gap": null,
            "grid_row": null,
            "grid_template_areas": null,
            "grid_template_columns": null,
            "grid_template_rows": null,
            "height": null,
            "justify_content": null,
            "justify_items": null,
            "left": null,
            "margin": null,
            "max_height": null,
            "max_width": null,
            "min_height": null,
            "min_width": null,
            "object_fit": null,
            "object_position": null,
            "order": null,
            "overflow": null,
            "overflow_x": null,
            "overflow_y": null,
            "padding": null,
            "right": null,
            "top": null,
            "visibility": null,
            "width": null
          }
        },
        "9959283cd1894e9ea222971b38bdeeb1": {
          "model_module": "@jupyter-widgets/controls",
          "model_name": "DescriptionStyleModel",
          "model_module_version": "1.5.0",
          "state": {
            "_model_module": "@jupyter-widgets/controls",
            "_model_module_version": "1.5.0",
            "_model_name": "DescriptionStyleModel",
            "_view_count": null,
            "_view_module": "@jupyter-widgets/base",
            "_view_module_version": "1.2.0",
            "_view_name": "StyleView",
            "description_width": ""
          }
        },
        "ee88ec9fcd204b7f9a9129a680c264ad": {
          "model_module": "@jupyter-widgets/controls",
          "model_name": "IntSliderModel",
          "model_module_version": "1.5.0",
          "state": {
            "_dom_classes": [],
            "_model_module": "@jupyter-widgets/controls",
            "_model_module_version": "1.5.0",
            "_model_name": "IntSliderModel",
            "_view_count": null,
            "_view_module": "@jupyter-widgets/controls",
            "_view_module_version": "1.5.0",
            "_view_name": "IntSliderView",
            "continuous_update": true,
            "description": "Num. of Initial Pts:",
            "description_tooltip": null,
            "disabled": false,
            "layout": "IPY_MODEL_6444e387201c4f1486ffc99c1ced9dc1",
            "max": 50,
            "min": 0,
            "orientation": "horizontal",
            "readout": true,
            "readout_format": "d",
            "step": 5,
            "style": "IPY_MODEL_670a4354bcc34902bc1d3715bb4246f8",
            "value": 10
          }
        },
        "6444e387201c4f1486ffc99c1ced9dc1": {
          "model_module": "@jupyter-widgets/base",
          "model_name": "LayoutModel",
          "model_module_version": "1.2.0",
          "state": {
            "_model_module": "@jupyter-widgets/base",
            "_model_module_version": "1.2.0",
            "_model_name": "LayoutModel",
            "_view_count": null,
            "_view_module": "@jupyter-widgets/base",
            "_view_module_version": "1.2.0",
            "_view_name": "LayoutView",
            "align_content": null,
            "align_items": null,
            "align_self": null,
            "border": null,
            "bottom": null,
            "display": null,
            "flex": null,
            "flex_flow": null,
            "grid_area": null,
            "grid_auto_columns": null,
            "grid_auto_flow": null,
            "grid_auto_rows": null,
            "grid_column": null,
            "grid_gap": null,
            "grid_row": null,
            "grid_template_areas": null,
            "grid_template_columns": null,
            "grid_template_rows": null,
            "height": null,
            "justify_content": null,
            "justify_items": null,
            "left": null,
            "margin": null,
            "max_height": null,
            "max_width": null,
            "min_height": null,
            "min_width": null,
            "object_fit": null,
            "object_position": null,
            "order": null,
            "overflow": null,
            "overflow_x": null,
            "overflow_y": null,
            "padding": null,
            "right": null,
            "top": null,
            "visibility": null,
            "width": null
          }
        },
        "670a4354bcc34902bc1d3715bb4246f8": {
          "model_module": "@jupyter-widgets/controls",
          "model_name": "SliderStyleModel",
          "model_module_version": "1.5.0",
          "state": {
            "_model_module": "@jupyter-widgets/controls",
            "_model_module_version": "1.5.0",
            "_model_name": "SliderStyleModel",
            "_view_count": null,
            "_view_module": "@jupyter-widgets/base",
            "_view_module_version": "1.2.0",
            "_view_name": "StyleView",
            "description_width": "",
            "handle_color": null
          }
        },
        "d79d47a96924456ea576a136b70c80ee": {
          "model_module": "@jupyter-widgets/controls",
          "model_name": "FloatSliderModel",
          "model_module_version": "1.5.0",
          "state": {
            "_dom_classes": [],
            "_model_module": "@jupyter-widgets/controls",
            "_model_module_version": "1.5.0",
            "_model_name": "FloatSliderModel",
            "_view_count": null,
            "_view_module": "@jupyter-widgets/controls",
            "_view_module_version": "1.5.0",
            "_view_name": "FloatSliderView",
            "continuous_update": true,
            "description": "Sample Variance:",
            "description_tooltip": null,
            "disabled": false,
            "layout": "IPY_MODEL_f800e78e6023481bb0586b48abe16a05",
            "max": 20,
            "min": 0.5,
            "orientation": "horizontal",
            "readout": true,
            "readout_format": "d",
            "step": 0.5,
            "style": "IPY_MODEL_f5a2b24100364e64aa76fc4640c16506",
            "value": 2.5
          }
        },
        "f800e78e6023481bb0586b48abe16a05": {
          "model_module": "@jupyter-widgets/base",
          "model_name": "LayoutModel",
          "model_module_version": "1.2.0",
          "state": {
            "_model_module": "@jupyter-widgets/base",
            "_model_module_version": "1.2.0",
            "_model_name": "LayoutModel",
            "_view_count": null,
            "_view_module": "@jupyter-widgets/base",
            "_view_module_version": "1.2.0",
            "_view_name": "LayoutView",
            "align_content": null,
            "align_items": null,
            "align_self": null,
            "border": null,
            "bottom": null,
            "display": null,
            "flex": null,
            "flex_flow": null,
            "grid_area": null,
            "grid_auto_columns": null,
            "grid_auto_flow": null,
            "grid_auto_rows": null,
            "grid_column": null,
            "grid_gap": null,
            "grid_row": null,
            "grid_template_areas": null,
            "grid_template_columns": null,
            "grid_template_rows": null,
            "height": null,
            "justify_content": null,
            "justify_items": null,
            "left": null,
            "margin": null,
            "max_height": null,
            "max_width": null,
            "min_height": null,
            "min_width": null,
            "object_fit": null,
            "object_position": null,
            "order": null,
            "overflow": null,
            "overflow_x": null,
            "overflow_y": null,
            "padding": null,
            "right": null,
            "top": null,
            "visibility": null,
            "width": null
          }
        },
        "f5a2b24100364e64aa76fc4640c16506": {
          "model_module": "@jupyter-widgets/controls",
          "model_name": "SliderStyleModel",
          "model_module_version": "1.5.0",
          "state": {
            "_model_module": "@jupyter-widgets/controls",
            "_model_module_version": "1.5.0",
            "_model_name": "SliderStyleModel",
            "_view_count": null,
            "_view_module": "@jupyter-widgets/base",
            "_view_module_version": "1.2.0",
            "_view_name": "StyleView",
            "description_width": "",
            "handle_color": null
          }
        },
        "035dc45bdaee46afa0ed43d91bec1f79": {
          "model_module": "@jupyter-widgets/controls",
          "model_name": "BoundedFloatTextModel",
          "model_module_version": "1.5.0",
          "state": {
            "_dom_classes": [],
            "_model_module": "@jupyter-widgets/controls",
            "_model_module_version": "1.5.0",
            "_model_name": "BoundedFloatTextModel",
            "_view_count": null,
            "_view_module": "@jupyter-widgets/controls",
            "_view_module_version": "1.5.0",
            "_view_name": "FloatTextView",
            "continuous_update": false,
            "description": "g1 centered on:",
            "description_tooltip": null,
            "disabled": false,
            "layout": "IPY_MODEL_8e9b3dc699244e50981defc2d9b88013",
            "max": 200,
            "min": 0,
            "step": 1,
            "style": "IPY_MODEL_b17186cc4b9843a487e9dd7d542041d8",
            "value": 105
          }
        },
        "8e9b3dc699244e50981defc2d9b88013": {
          "model_module": "@jupyter-widgets/base",
          "model_name": "LayoutModel",
          "model_module_version": "1.2.0",
          "state": {
            "_model_module": "@jupyter-widgets/base",
            "_model_module_version": "1.2.0",
            "_model_name": "LayoutModel",
            "_view_count": null,
            "_view_module": "@jupyter-widgets/base",
            "_view_module_version": "1.2.0",
            "_view_name": "LayoutView",
            "align_content": null,
            "align_items": null,
            "align_self": null,
            "border": null,
            "bottom": null,
            "display": null,
            "flex": null,
            "flex_flow": null,
            "grid_area": null,
            "grid_auto_columns": null,
            "grid_auto_flow": null,
            "grid_auto_rows": null,
            "grid_column": null,
            "grid_gap": null,
            "grid_row": null,
            "grid_template_areas": null,
            "grid_template_columns": null,
            "grid_template_rows": null,
            "height": null,
            "justify_content": null,
            "justify_items": null,
            "left": null,
            "margin": null,
            "max_height": null,
            "max_width": null,
            "min_height": null,
            "min_width": null,
            "object_fit": null,
            "object_position": null,
            "order": null,
            "overflow": null,
            "overflow_x": null,
            "overflow_y": null,
            "padding": null,
            "right": null,
            "top": null,
            "visibility": null,
            "width": null
          }
        },
        "b17186cc4b9843a487e9dd7d542041d8": {
          "model_module": "@jupyter-widgets/controls",
          "model_name": "DescriptionStyleModel",
          "model_module_version": "1.5.0",
          "state": {
            "_model_module": "@jupyter-widgets/controls",
            "_model_module_version": "1.5.0",
            "_model_name": "DescriptionStyleModel",
            "_view_count": null,
            "_view_module": "@jupyter-widgets/base",
            "_view_module_version": "1.2.0",
            "_view_name": "StyleView",
            "description_width": ""
          }
        },
        "3fac8e1dbed74536afeee48167cb1c6e": {
          "model_module": "@jupyter-widgets/controls",
          "model_name": "BoundedFloatTextModel",
          "model_module_version": "1.5.0",
          "state": {
            "_dom_classes": [],
            "_model_module": "@jupyter-widgets/controls",
            "_model_module_version": "1.5.0",
            "_model_name": "BoundedFloatTextModel",
            "_view_count": null,
            "_view_module": "@jupyter-widgets/controls",
            "_view_module_version": "1.5.0",
            "_view_name": "FloatTextView",
            "continuous_update": false,
            "description": "g2 centered on:",
            "description_tooltip": null,
            "disabled": false,
            "layout": "IPY_MODEL_6ab75566af9244dfa224ca636ef37c95",
            "max": 200,
            "min": 0,
            "step": 1,
            "style": "IPY_MODEL_57bda996870c4d619116225fe549ee46",
            "value": 20
          }
        },
        "6ab75566af9244dfa224ca636ef37c95": {
          "model_module": "@jupyter-widgets/base",
          "model_name": "LayoutModel",
          "model_module_version": "1.2.0",
          "state": {
            "_model_module": "@jupyter-widgets/base",
            "_model_module_version": "1.2.0",
            "_model_name": "LayoutModel",
            "_view_count": null,
            "_view_module": "@jupyter-widgets/base",
            "_view_module_version": "1.2.0",
            "_view_name": "LayoutView",
            "align_content": null,
            "align_items": null,
            "align_self": null,
            "border": null,
            "bottom": null,
            "display": null,
            "flex": null,
            "flex_flow": null,
            "grid_area": null,
            "grid_auto_columns": null,
            "grid_auto_flow": null,
            "grid_auto_rows": null,
            "grid_column": null,
            "grid_gap": null,
            "grid_row": null,
            "grid_template_areas": null,
            "grid_template_columns": null,
            "grid_template_rows": null,
            "height": null,
            "justify_content": null,
            "justify_items": null,
            "left": null,
            "margin": null,
            "max_height": null,
            "max_width": null,
            "min_height": null,
            "min_width": null,
            "object_fit": null,
            "object_position": null,
            "order": null,
            "overflow": null,
            "overflow_x": null,
            "overflow_y": null,
            "padding": null,
            "right": null,
            "top": null,
            "visibility": null,
            "width": null
          }
        },
        "57bda996870c4d619116225fe549ee46": {
          "model_module": "@jupyter-widgets/controls",
          "model_name": "DescriptionStyleModel",
          "model_module_version": "1.5.0",
          "state": {
            "_model_module": "@jupyter-widgets/controls",
            "_model_module_version": "1.5.0",
            "_model_name": "DescriptionStyleModel",
            "_view_count": null,
            "_view_module": "@jupyter-widgets/base",
            "_view_module_version": "1.2.0",
            "_view_name": "StyleView",
            "description_width": ""
          }
        },
        "95247de16f4c483a8a51ee596c3c94af": {
          "model_module": "@jupyter-widgets/controls",
          "model_name": "BoundedFloatTextModel",
          "model_module_version": "1.5.0",
          "state": {
            "_dom_classes": [],
            "_model_module": "@jupyter-widgets/controls",
            "_model_module_version": "1.5.0",
            "_model_name": "BoundedFloatTextModel",
            "_view_count": null,
            "_view_module": "@jupyter-widgets/controls",
            "_view_module_version": "1.5.0",
            "_view_name": "FloatTextView",
            "continuous_update": false,
            "description": "g3 centered on:",
            "description_tooltip": null,
            "disabled": false,
            "layout": "IPY_MODEL_965271e0c7d94eef9f03443c038b971c",
            "max": 200,
            "min": 0,
            "step": 1,
            "style": "IPY_MODEL_d015d192036d4a2995cd2643fd42dec4",
            "value": 10
          }
        },
        "965271e0c7d94eef9f03443c038b971c": {
          "model_module": "@jupyter-widgets/base",
          "model_name": "LayoutModel",
          "model_module_version": "1.2.0",
          "state": {
            "_model_module": "@jupyter-widgets/base",
            "_model_module_version": "1.2.0",
            "_model_name": "LayoutModel",
            "_view_count": null,
            "_view_module": "@jupyter-widgets/base",
            "_view_module_version": "1.2.0",
            "_view_name": "LayoutView",
            "align_content": null,
            "align_items": null,
            "align_self": null,
            "border": null,
            "bottom": null,
            "display": null,
            "flex": null,
            "flex_flow": null,
            "grid_area": null,
            "grid_auto_columns": null,
            "grid_auto_flow": null,
            "grid_auto_rows": null,
            "grid_column": null,
            "grid_gap": null,
            "grid_row": null,
            "grid_template_areas": null,
            "grid_template_columns": null,
            "grid_template_rows": null,
            "height": null,
            "justify_content": null,
            "justify_items": null,
            "left": null,
            "margin": null,
            "max_height": null,
            "max_width": null,
            "min_height": null,
            "min_width": null,
            "object_fit": null,
            "object_position": null,
            "order": null,
            "overflow": null,
            "overflow_x": null,
            "overflow_y": null,
            "padding": null,
            "right": null,
            "top": null,
            "visibility": null,
            "width": null
          }
        },
        "d015d192036d4a2995cd2643fd42dec4": {
          "model_module": "@jupyter-widgets/controls",
          "model_name": "DescriptionStyleModel",
          "model_module_version": "1.5.0",
          "state": {
            "_model_module": "@jupyter-widgets/controls",
            "_model_module_version": "1.5.0",
            "_model_name": "DescriptionStyleModel",
            "_view_count": null,
            "_view_module": "@jupyter-widgets/base",
            "_view_module_version": "1.2.0",
            "_view_name": "StyleView",
            "description_width": ""
          }
        },
        "91caa421ea914ba29b4bf8a8cdc94c67": {
          "model_module": "@jupyter-widgets/controls",
          "model_name": "ButtonModel",
          "model_module_version": "1.5.0",
          "state": {
            "_dom_classes": [],
            "_model_module": "@jupyter-widgets/controls",
            "_model_module_version": "1.5.0",
            "_model_name": "ButtonModel",
            "_view_count": null,
            "_view_module": "@jupyter-widgets/controls",
            "_view_module_version": "1.5.0",
            "_view_name": "ButtonView",
            "button_style": "",
            "description": "Simulate",
            "disabled": false,
            "icon": "",
            "layout": "IPY_MODEL_0c395aba5db9447884d6b0856687b4bd",
            "style": "IPY_MODEL_cf5d87afdfd043f4a978d07b316ef7c9",
            "tooltip": ""
          }
        },
        "0c395aba5db9447884d6b0856687b4bd": {
          "model_module": "@jupyter-widgets/base",
          "model_name": "LayoutModel",
          "model_module_version": "1.2.0",
          "state": {
            "_model_module": "@jupyter-widgets/base",
            "_model_module_version": "1.2.0",
            "_model_name": "LayoutModel",
            "_view_count": null,
            "_view_module": "@jupyter-widgets/base",
            "_view_module_version": "1.2.0",
            "_view_name": "LayoutView",
            "align_content": null,
            "align_items": null,
            "align_self": null,
            "border": null,
            "bottom": null,
            "display": null,
            "flex": null,
            "flex_flow": null,
            "grid_area": null,
            "grid_auto_columns": null,
            "grid_auto_flow": null,
            "grid_auto_rows": null,
            "grid_column": null,
            "grid_gap": null,
            "grid_row": null,
            "grid_template_areas": null,
            "grid_template_columns": null,
            "grid_template_rows": null,
            "height": null,
            "justify_content": null,
            "justify_items": null,
            "left": null,
            "margin": null,
            "max_height": null,
            "max_width": null,
            "min_height": null,
            "min_width": null,
            "object_fit": null,
            "object_position": null,
            "order": null,
            "overflow": null,
            "overflow_x": null,
            "overflow_y": null,
            "padding": null,
            "right": null,
            "top": null,
            "visibility": null,
            "width": null
          }
        },
        "cf5d87afdfd043f4a978d07b316ef7c9": {
          "model_module": "@jupyter-widgets/controls",
          "model_name": "ButtonStyleModel",
          "model_module_version": "1.5.0",
          "state": {
            "_model_module": "@jupyter-widgets/controls",
            "_model_module_version": "1.5.0",
            "_model_name": "ButtonStyleModel",
            "_view_count": null,
            "_view_module": "@jupyter-widgets/base",
            "_view_module_version": "1.2.0",
            "_view_name": "StyleView",
            "button_color": null,
            "font_weight": ""
          }
        },
        "831c8c78bd124ee3af945da978f3e857": {
          "model_module": "@jupyter-widgets/output",
          "model_name": "OutputModel",
          "model_module_version": "1.0.0",
          "state": {
            "_dom_classes": [],
            "_model_module": "@jupyter-widgets/output",
            "_model_module_version": "1.0.0",
            "_model_name": "OutputModel",
            "_view_count": null,
            "_view_module": "@jupyter-widgets/output",
            "_view_module_version": "1.0.0",
            "_view_name": "OutputView",
            "layout": "IPY_MODEL_d3967d7c08b64427b76dec4268a02147",
            "msg_id": "",
            "outputs": [
              {
                "output_type": "stream",
                "name": "stdout",
                "text": [
                  "Simulation Complete, you may now plot\n"
                ]
              }
            ]
          }
        },
        "d3967d7c08b64427b76dec4268a02147": {
          "model_module": "@jupyter-widgets/base",
          "model_name": "LayoutModel",
          "model_module_version": "1.2.0",
          "state": {
            "_model_module": "@jupyter-widgets/base",
            "_model_module_version": "1.2.0",
            "_model_name": "LayoutModel",
            "_view_count": null,
            "_view_module": "@jupyter-widgets/base",
            "_view_module_version": "1.2.0",
            "_view_name": "LayoutView",
            "align_content": null,
            "align_items": null,
            "align_self": null,
            "border": null,
            "bottom": null,
            "display": null,
            "flex": null,
            "flex_flow": null,
            "grid_area": null,
            "grid_auto_columns": null,
            "grid_auto_flow": null,
            "grid_auto_rows": null,
            "grid_column": null,
            "grid_gap": null,
            "grid_row": null,
            "grid_template_areas": null,
            "grid_template_columns": null,
            "grid_template_rows": null,
            "height": null,
            "justify_content": null,
            "justify_items": null,
            "left": null,
            "margin": null,
            "max_height": null,
            "max_width": null,
            "min_height": null,
            "min_width": null,
            "object_fit": null,
            "object_position": null,
            "order": null,
            "overflow": null,
            "overflow_x": null,
            "overflow_y": null,
            "padding": null,
            "right": null,
            "top": null,
            "visibility": null,
            "width": null
          }
        },
        "6ee8d9dea7804ce08e55de3bdf20d98c": {
          "model_module": "@jupyter-widgets/controls",
          "model_name": "ButtonModel",
          "model_module_version": "1.5.0",
          "state": {
            "_dom_classes": [],
            "_model_module": "@jupyter-widgets/controls",
            "_model_module_version": "1.5.0",
            "_model_name": "ButtonModel",
            "_view_count": null,
            "_view_module": "@jupyter-widgets/controls",
            "_view_module_version": "1.5.0",
            "_view_name": "ButtonView",
            "button_style": "",
            "description": "Plot",
            "disabled": false,
            "icon": "",
            "layout": "IPY_MODEL_e00d83963b064be5b7e9a7e900d244b4",
            "style": "IPY_MODEL_d6aaa465105242f48fb43e57c8165583",
            "tooltip": ""
          }
        },
        "e00d83963b064be5b7e9a7e900d244b4": {
          "model_module": "@jupyter-widgets/base",
          "model_name": "LayoutModel",
          "model_module_version": "1.2.0",
          "state": {
            "_model_module": "@jupyter-widgets/base",
            "_model_module_version": "1.2.0",
            "_model_name": "LayoutModel",
            "_view_count": null,
            "_view_module": "@jupyter-widgets/base",
            "_view_module_version": "1.2.0",
            "_view_name": "LayoutView",
            "align_content": null,
            "align_items": null,
            "align_self": null,
            "border": null,
            "bottom": null,
            "display": null,
            "flex": null,
            "flex_flow": null,
            "grid_area": null,
            "grid_auto_columns": null,
            "grid_auto_flow": null,
            "grid_auto_rows": null,
            "grid_column": null,
            "grid_gap": null,
            "grid_row": null,
            "grid_template_areas": null,
            "grid_template_columns": null,
            "grid_template_rows": null,
            "height": null,
            "justify_content": null,
            "justify_items": null,
            "left": null,
            "margin": null,
            "max_height": null,
            "max_width": null,
            "min_height": null,
            "min_width": null,
            "object_fit": null,
            "object_position": null,
            "order": null,
            "overflow": null,
            "overflow_x": null,
            "overflow_y": null,
            "padding": null,
            "right": null,
            "top": null,
            "visibility": null,
            "width": null
          }
        },
        "d6aaa465105242f48fb43e57c8165583": {
          "model_module": "@jupyter-widgets/controls",
          "model_name": "ButtonStyleModel",
          "model_module_version": "1.5.0",
          "state": {
            "_model_module": "@jupyter-widgets/controls",
            "_model_module_version": "1.5.0",
            "_model_name": "ButtonStyleModel",
            "_view_count": null,
            "_view_module": "@jupyter-widgets/base",
            "_view_module_version": "1.2.0",
            "_view_name": "StyleView",
            "button_color": null,
            "font_weight": ""
          }
        },
        "1a713e9374ba4cc8a55e05021675ca02": {
          "model_module": "@jupyter-widgets/output",
          "model_name": "OutputModel",
          "model_module_version": "1.0.0",
          "state": {
            "_dom_classes": [],
            "_model_module": "@jupyter-widgets/output",
            "_model_module_version": "1.0.0",
            "_model_name": "OutputModel",
            "_view_count": null,
            "_view_module": "@jupyter-widgets/output",
            "_view_module_version": "1.0.0",
            "_view_name": "OutputView",
            "layout": "IPY_MODEL_0ea604d8dd044912a604f039aee4f47b",
            "msg_id": "",
            "outputs": [
              {
                "output_type": "stream",
                "name": "stdout",
                "text": [
                  "Plotting...\n",
                  "Legend: \n",
                  " Initial Pts = Orange\n",
                  " Original = blue\n",
                  " Flipped = red\n",
                  " Scaled = green\n",
                  " Custom = Black\n"
                ]
              },
              {
                "output_type": "display_data",
                "data": {
                  "text/html": "<html>\n<head><meta charset=\"utf-8\" /></head>\n<body>\n    <div>            <script src=\"https://cdnjs.cloudflare.com/ajax/libs/mathjax/2.7.5/MathJax.js?config=TeX-AMS-MML_SVG\"></script><script type=\"text/javascript\">if (window.MathJax) {MathJax.Hub.Config({SVG: {font: \"STIX-Web\"}});}</script>                <script type=\"text/javascript\">window.PlotlyConfig = {MathJaxConfig: 'local'};</script>\n        <script src=\"https://cdn.plot.ly/plotly-2.8.3.min.js\"></script>                <div id=\"521197db-ec16-4a2a-9ebf-902a3f75768d\" class=\"plotly-graph-div\" style=\"height:525px; width:100%;\"></div>            <script type=\"text/javascript\">                                    window.PLOTLYENV=window.PLOTLYENV || {};                                    if (document.getElementById(\"521197db-ec16-4a2a-9ebf-902a3f75768d\")) {                    Plotly.newPlot(                        \"521197db-ec16-4a2a-9ebf-902a3f75768d\",                        [{\"marker\":{\"color\":[\"orange\",\"orange\",\"orange\",\"orange\",\"orange\",\"orange\",\"orange\",\"orange\",\"orange\",\"orange\",\"blue\",\"blue\",\"blue\",\"blue\",\"blue\",\"blue\",\"blue\",\"blue\",\"blue\",\"blue\",\"red\",\"red\",\"red\",\"red\",\"red\",\"red\",\"red\",\"red\",\"red\",\"red\",\"green\",\"green\",\"green\",\"green\",\"green\",\"green\",\"green\",\"green\",\"green\",\"green\"],\"opacity\":0.8,\"size\":8},\"mode\":\"markers\",\"x\":[102.76729127086108,102.51556251533486,106.19578470779207,101.85307654123206,103.11886118298005,107.35919229176781,105.4471273983278,105.90488102400144,105.87977681306867,106.06969530941427,89.11019961372898,85.44748796934377,84.7415646031454,82.09570462197162,87.24667040677755,89.98858279727762,86.92341896899374,88.0689909324711,94.35907800302519,92.94913733226504,88.23568609140341,84.24879822942265,83.61374743209016,80.53549565277591,86.40592356043085,88.92009396330265,85.73737699614593,87.15793889547474,93.66663124006821,92.18309597512399,102.27774333154593,101.88537453180108,105.40266724176772,101.10027078054797,102.55006666497697,106.72689944779302,104.76441202691542,105.26132419801812,105.47469634743621,105.60516457036293],\"y\":[20.43865718106126,21.44475200231863,16.99812122433374,22.87489958467554,17.251471633169388,20.228367799995446,20.313905182309654,16.99807259068538,20.309384574906286,19.66588412199434,22.476946925452715,24.212965301895288,19.757927509626885,26.411614361026043,19.28496854212828,22.75422299862002,23.1060301962279,19.221838876047368,21.930555027646303,21.475539508398917,18.46341104244705,18.814975151420768,14.493764818816041,19.55996165919635,15.333092776829048,17.84026509254366,17.69635107728697,14.92772664699463,18.715927667842255,17.90963747042322,21.099746646539597,22.344660275969794,17.869200355065697,24.03464826629456,17.899474161561415,21.040828568975158,21.21287882131498,17.70300678514784,20.835058852550027,20.2498108206331],\"z\":[11.148834570127228,8.759568112575407,7.74215734915341,6.964031125287164,10.259535221322079,9.807078510902201,8.709434977530542,9.688700604368405,13.499130714109196,12.445568412087338,19.721449029087747,18.148629082132626,19.094310140934773,16.499640771428332,20.020912722270413,19.86763162558329,18.86170019157036,20.259859932001415,21.40043739633691,21.10561453105783,20.514992951756643,19.203751746912086,20.14554575529845,17.815858700664077,20.811587026851495,20.83991904155818,19.927241417598353,21.120327594555498,22.040313662466783,21.81595646383423,23.927525948034305,23.485975738039944,25.68083270148975,22.813765446513422,24.850253466610603,25.226056024701936,24.61475418909716,25.683911805075375,24.919243099115697,25.111248455379286],\"type\":\"scatter3d\"}],                        {\"template\":{\"data\":{\"bar\":[{\"error_x\":{\"color\":\"#2a3f5f\"},\"error_y\":{\"color\":\"#2a3f5f\"},\"marker\":{\"line\":{\"color\":\"#E5ECF6\",\"width\":0.5},\"pattern\":{\"fillmode\":\"overlay\",\"size\":10,\"solidity\":0.2}},\"type\":\"bar\"}],\"barpolar\":[{\"marker\":{\"line\":{\"color\":\"#E5ECF6\",\"width\":0.5},\"pattern\":{\"fillmode\":\"overlay\",\"size\":10,\"solidity\":0.2}},\"type\":\"barpolar\"}],\"carpet\":[{\"aaxis\":{\"endlinecolor\":\"#2a3f5f\",\"gridcolor\":\"white\",\"linecolor\":\"white\",\"minorgridcolor\":\"white\",\"startlinecolor\":\"#2a3f5f\"},\"baxis\":{\"endlinecolor\":\"#2a3f5f\",\"gridcolor\":\"white\",\"linecolor\":\"white\",\"minorgridcolor\":\"white\",\"startlinecolor\":\"#2a3f5f\"},\"type\":\"carpet\"}],\"choropleth\":[{\"colorbar\":{\"outlinewidth\":0,\"ticks\":\"\"},\"type\":\"choropleth\"}],\"contour\":[{\"colorbar\":{\"outlinewidth\":0,\"ticks\":\"\"},\"colorscale\":[[0.0,\"#0d0887\"],[0.1111111111111111,\"#46039f\"],[0.2222222222222222,\"#7201a8\"],[0.3333333333333333,\"#9c179e\"],[0.4444444444444444,\"#bd3786\"],[0.5555555555555556,\"#d8576b\"],[0.6666666666666666,\"#ed7953\"],[0.7777777777777778,\"#fb9f3a\"],[0.8888888888888888,\"#fdca26\"],[1.0,\"#f0f921\"]],\"type\":\"contour\"}],\"contourcarpet\":[{\"colorbar\":{\"outlinewidth\":0,\"ticks\":\"\"},\"type\":\"contourcarpet\"}],\"heatmap\":[{\"colorbar\":{\"outlinewidth\":0,\"ticks\":\"\"},\"colorscale\":[[0.0,\"#0d0887\"],[0.1111111111111111,\"#46039f\"],[0.2222222222222222,\"#7201a8\"],[0.3333333333333333,\"#9c179e\"],[0.4444444444444444,\"#bd3786\"],[0.5555555555555556,\"#d8576b\"],[0.6666666666666666,\"#ed7953\"],[0.7777777777777778,\"#fb9f3a\"],[0.8888888888888888,\"#fdca26\"],[1.0,\"#f0f921\"]],\"type\":\"heatmap\"}],\"heatmapgl\":[{\"colorbar\":{\"outlinewidth\":0,\"ticks\":\"\"},\"colorscale\":[[0.0,\"#0d0887\"],[0.1111111111111111,\"#46039f\"],[0.2222222222222222,\"#7201a8\"],[0.3333333333333333,\"#9c179e\"],[0.4444444444444444,\"#bd3786\"],[0.5555555555555556,\"#d8576b\"],[0.6666666666666666,\"#ed7953\"],[0.7777777777777778,\"#fb9f3a\"],[0.8888888888888888,\"#fdca26\"],[1.0,\"#f0f921\"]],\"type\":\"heatmapgl\"}],\"histogram\":[{\"marker\":{\"pattern\":{\"fillmode\":\"overlay\",\"size\":10,\"solidity\":0.2}},\"type\":\"histogram\"}],\"histogram2d\":[{\"colorbar\":{\"outlinewidth\":0,\"ticks\":\"\"},\"colorscale\":[[0.0,\"#0d0887\"],[0.1111111111111111,\"#46039f\"],[0.2222222222222222,\"#7201a8\"],[0.3333333333333333,\"#9c179e\"],[0.4444444444444444,\"#bd3786\"],[0.5555555555555556,\"#d8576b\"],[0.6666666666666666,\"#ed7953\"],[0.7777777777777778,\"#fb9f3a\"],[0.8888888888888888,\"#fdca26\"],[1.0,\"#f0f921\"]],\"type\":\"histogram2d\"}],\"histogram2dcontour\":[{\"colorbar\":{\"outlinewidth\":0,\"ticks\":\"\"},\"colorscale\":[[0.0,\"#0d0887\"],[0.1111111111111111,\"#46039f\"],[0.2222222222222222,\"#7201a8\"],[0.3333333333333333,\"#9c179e\"],[0.4444444444444444,\"#bd3786\"],[0.5555555555555556,\"#d8576b\"],[0.6666666666666666,\"#ed7953\"],[0.7777777777777778,\"#fb9f3a\"],[0.8888888888888888,\"#fdca26\"],[1.0,\"#f0f921\"]],\"type\":\"histogram2dcontour\"}],\"mesh3d\":[{\"colorbar\":{\"outlinewidth\":0,\"ticks\":\"\"},\"type\":\"mesh3d\"}],\"parcoords\":[{\"line\":{\"colorbar\":{\"outlinewidth\":0,\"ticks\":\"\"}},\"type\":\"parcoords\"}],\"pie\":[{\"automargin\":true,\"type\":\"pie\"}],\"scatter\":[{\"marker\":{\"colorbar\":{\"outlinewidth\":0,\"ticks\":\"\"}},\"type\":\"scatter\"}],\"scatter3d\":[{\"line\":{\"colorbar\":{\"outlinewidth\":0,\"ticks\":\"\"}},\"marker\":{\"colorbar\":{\"outlinewidth\":0,\"ticks\":\"\"}},\"type\":\"scatter3d\"}],\"scattercarpet\":[{\"marker\":{\"colorbar\":{\"outlinewidth\":0,\"ticks\":\"\"}},\"type\":\"scattercarpet\"}],\"scattergeo\":[{\"marker\":{\"colorbar\":{\"outlinewidth\":0,\"ticks\":\"\"}},\"type\":\"scattergeo\"}],\"scattergl\":[{\"marker\":{\"colorbar\":{\"outlinewidth\":0,\"ticks\":\"\"}},\"type\":\"scattergl\"}],\"scattermapbox\":[{\"marker\":{\"colorbar\":{\"outlinewidth\":0,\"ticks\":\"\"}},\"type\":\"scattermapbox\"}],\"scatterpolar\":[{\"marker\":{\"colorbar\":{\"outlinewidth\":0,\"ticks\":\"\"}},\"type\":\"scatterpolar\"}],\"scatterpolargl\":[{\"marker\":{\"colorbar\":{\"outlinewidth\":0,\"ticks\":\"\"}},\"type\":\"scatterpolargl\"}],\"scatterternary\":[{\"marker\":{\"colorbar\":{\"outlinewidth\":0,\"ticks\":\"\"}},\"type\":\"scatterternary\"}],\"surface\":[{\"colorbar\":{\"outlinewidth\":0,\"ticks\":\"\"},\"colorscale\":[[0.0,\"#0d0887\"],[0.1111111111111111,\"#46039f\"],[0.2222222222222222,\"#7201a8\"],[0.3333333333333333,\"#9c179e\"],[0.4444444444444444,\"#bd3786\"],[0.5555555555555556,\"#d8576b\"],[0.6666666666666666,\"#ed7953\"],[0.7777777777777778,\"#fb9f3a\"],[0.8888888888888888,\"#fdca26\"],[1.0,\"#f0f921\"]],\"type\":\"surface\"}],\"table\":[{\"cells\":{\"fill\":{\"color\":\"#EBF0F8\"},\"line\":{\"color\":\"white\"}},\"header\":{\"fill\":{\"color\":\"#C8D4E3\"},\"line\":{\"color\":\"white\"}},\"type\":\"table\"}]},\"layout\":{\"annotationdefaults\":{\"arrowcolor\":\"#2a3f5f\",\"arrowhead\":0,\"arrowwidth\":1},\"autotypenumbers\":\"strict\",\"coloraxis\":{\"colorbar\":{\"outlinewidth\":0,\"ticks\":\"\"}},\"colorscale\":{\"diverging\":[[0,\"#8e0152\"],[0.1,\"#c51b7d\"],[0.2,\"#de77ae\"],[0.3,\"#f1b6da\"],[0.4,\"#fde0ef\"],[0.5,\"#f7f7f7\"],[0.6,\"#e6f5d0\"],[0.7,\"#b8e186\"],[0.8,\"#7fbc41\"],[0.9,\"#4d9221\"],[1,\"#276419\"]],\"sequential\":[[0.0,\"#0d0887\"],[0.1111111111111111,\"#46039f\"],[0.2222222222222222,\"#7201a8\"],[0.3333333333333333,\"#9c179e\"],[0.4444444444444444,\"#bd3786\"],[0.5555555555555556,\"#d8576b\"],[0.6666666666666666,\"#ed7953\"],[0.7777777777777778,\"#fb9f3a\"],[0.8888888888888888,\"#fdca26\"],[1.0,\"#f0f921\"]],\"sequentialminus\":[[0.0,\"#0d0887\"],[0.1111111111111111,\"#46039f\"],[0.2222222222222222,\"#7201a8\"],[0.3333333333333333,\"#9c179e\"],[0.4444444444444444,\"#bd3786\"],[0.5555555555555556,\"#d8576b\"],[0.6666666666666666,\"#ed7953\"],[0.7777777777777778,\"#fb9f3a\"],[0.8888888888888888,\"#fdca26\"],[1.0,\"#f0f921\"]]},\"colorway\":[\"#636efa\",\"#EF553B\",\"#00cc96\",\"#ab63fa\",\"#FFA15A\",\"#19d3f3\",\"#FF6692\",\"#B6E880\",\"#FF97FF\",\"#FECB52\"],\"font\":{\"color\":\"#2a3f5f\"},\"geo\":{\"bgcolor\":\"white\",\"lakecolor\":\"white\",\"landcolor\":\"#E5ECF6\",\"showlakes\":true,\"showland\":true,\"subunitcolor\":\"white\"},\"hoverlabel\":{\"align\":\"left\"},\"hovermode\":\"closest\",\"mapbox\":{\"style\":\"light\"},\"paper_bgcolor\":\"white\",\"plot_bgcolor\":\"#E5ECF6\",\"polar\":{\"angularaxis\":{\"gridcolor\":\"white\",\"linecolor\":\"white\",\"ticks\":\"\"},\"bgcolor\":\"#E5ECF6\",\"radialaxis\":{\"gridcolor\":\"white\",\"linecolor\":\"white\",\"ticks\":\"\"}},\"scene\":{\"xaxis\":{\"backgroundcolor\":\"#E5ECF6\",\"gridcolor\":\"white\",\"gridwidth\":2,\"linecolor\":\"white\",\"showbackground\":true,\"ticks\":\"\",\"zerolinecolor\":\"white\"},\"yaxis\":{\"backgroundcolor\":\"#E5ECF6\",\"gridcolor\":\"white\",\"gridwidth\":2,\"linecolor\":\"white\",\"showbackground\":true,\"ticks\":\"\",\"zerolinecolor\":\"white\"},\"zaxis\":{\"backgroundcolor\":\"#E5ECF6\",\"gridcolor\":\"white\",\"gridwidth\":2,\"linecolor\":\"white\",\"showbackground\":true,\"ticks\":\"\",\"zerolinecolor\":\"white\"}},\"shapedefaults\":{\"line\":{\"color\":\"#2a3f5f\"}},\"ternary\":{\"aaxis\":{\"gridcolor\":\"white\",\"linecolor\":\"white\",\"ticks\":\"\"},\"baxis\":{\"gridcolor\":\"white\",\"linecolor\":\"white\",\"ticks\":\"\"},\"bgcolor\":\"#E5ECF6\",\"caxis\":{\"gridcolor\":\"white\",\"linecolor\":\"white\",\"ticks\":\"\"}},\"title\":{\"x\":0.05},\"xaxis\":{\"automargin\":true,\"gridcolor\":\"white\",\"linecolor\":\"white\",\"ticks\":\"\",\"title\":{\"standoff\":15},\"zerolinecolor\":\"white\",\"zerolinewidth\":2},\"yaxis\":{\"automargin\":true,\"gridcolor\":\"white\",\"linecolor\":\"white\",\"ticks\":\"\",\"title\":{\"standoff\":15},\"zerolinecolor\":\"white\",\"zerolinewidth\":2}}}},                        {\"responsive\": true}                    ).then(function(){\n                            \nvar gd = document.getElementById('521197db-ec16-4a2a-9ebf-902a3f75768d');\nvar x = new MutationObserver(function (mutations, observer) {{\n        var display = window.getComputedStyle(gd).display;\n        if (!display || display === 'none') {{\n            console.log([gd, 'removed!']);\n            Plotly.purge(gd);\n            observer.disconnect();\n        }}\n}});\n\n// Listen for the removal of the full notebook cells\nvar notebookContainer = gd.closest('#notebook-container');\nif (notebookContainer) {{\n    x.observe(notebookContainer, {childList: true});\n}}\n\n// Listen for the clearing of the current output cell\nvar outputEl = gd.closest('.output');\nif (outputEl) {{\n    x.observe(outputEl, {childList: true});\n}}\n\n                        })                };                            </script>        </div>\n</body>\n</html>"
                },
                "metadata": {}
              }
            ]
          }
        },
        "0ea604d8dd044912a604f039aee4f47b": {
          "model_module": "@jupyter-widgets/base",
          "model_name": "LayoutModel",
          "model_module_version": "1.2.0",
          "state": {
            "_model_module": "@jupyter-widgets/base",
            "_model_module_version": "1.2.0",
            "_model_name": "LayoutModel",
            "_view_count": null,
            "_view_module": "@jupyter-widgets/base",
            "_view_module_version": "1.2.0",
            "_view_name": "LayoutView",
            "align_content": null,
            "align_items": null,
            "align_self": null,
            "border": null,
            "bottom": null,
            "display": null,
            "flex": null,
            "flex_flow": null,
            "grid_area": null,
            "grid_auto_columns": null,
            "grid_auto_flow": null,
            "grid_auto_rows": null,
            "grid_column": null,
            "grid_gap": null,
            "grid_row": null,
            "grid_template_areas": null,
            "grid_template_columns": null,
            "grid_template_rows": null,
            "height": null,
            "justify_content": null,
            "justify_items": null,
            "left": null,
            "margin": null,
            "max_height": null,
            "max_width": null,
            "min_height": null,
            "min_width": null,
            "object_fit": null,
            "object_position": null,
            "order": null,
            "overflow": null,
            "overflow_x": null,
            "overflow_y": null,
            "padding": null,
            "right": null,
            "top": null,
            "visibility": null,
            "width": null
          }
        }
      }
    }
  },
  "nbformat": 4,
  "nbformat_minor": 0
}